{
 "cells": [
  {
   "cell_type": "code",
   "execution_count": 6,
   "metadata": {},
   "outputs": [],
   "source": [
    "import sys, os\n",
    "# Ajouter le chemin vers le dossier 'modules'\n",
    "module_path = os.path.abspath(os.path.join('/home/chardon-grossard/Bureau/SWAG-P/Gap_Plasmon_2D/Workspace/', 'modules'))\n",
    "if module_path not in sys.path:\n",
    "    sys.path.append(module_path)\n",
    "\n",
    "import numpy as np\n",
    "import matplotlib.pyplot as plt\n",
    "\n",
    "from Functions_materials_models_dispertion import epsAubb, epsAgbb # Pour récup permitivité des métaux\n",
    "from Function_reflectance_SWAG import reflectance\n",
    "from Functions_RCWA import cascade, c_bas, c_haut, intermediaire, couche, step, grating, homogene, interface, HErmes"
   ]
  },
  {
   "cell_type": "code",
   "execution_count": 9,
   "metadata": {},
   "outputs": [
    {
     "name": "stdout",
     "output_type": "stream",
     "text": [
      "Chemin vers le fichier JSON : /home/chardon-grossard/Bureau/SWAG-P/Gap_Plasmon_2D/Workspace/CODE/data/material_data.json\n"
     ]
    }
   ],
   "source": [
    "# Définir le chemin relatif vers le fichier JSON (en supposant que le dossier 'data' se trouve au même niveau que 'modules')\n",
    "json_path = os.path.abspath(os.path.join('/home/chardon-grossard/Bureau/SWAG-P/Gap_Plasmon_2D/Workspace/CODE/', 'data', 'material_data.json'))\n",
    "\n",
    "print(\"Chemin vers le fichier JSON :\", json_path)\n",
    "\n",
    "# Exemple d'utilisation avec get_n_k\n",
    "from Functions import get_n_k # importe fonctions pour récup n et k\n"
   ]
  },
  {
   "cell_type": "code",
   "execution_count": 10,
   "metadata": {},
   "outputs": [
    {
     "name": "stdout",
     "output_type": "stream",
     "text": [
      "For Water at 500 nm: n = 1.337437, k = 0.000000\n"
     ]
    }
   ],
   "source": [
    "material_test = \"Water\"\n",
    "lambda_test = 500  # en nm\n",
    "\n",
    "n_val, k_val = get_n_k(material_test, lambda_test, json_path)\n",
    "print(f\"For {material_test} at {lambda_test} nm: n = {n_val:.6f}, k = {k_val:.6f}\")"
   ]
  },
  {
   "cell_type": "code",
   "execution_count": 15,
   "metadata": {},
   "outputs": [
    {
     "ename": "TypeError",
     "evalue": "get_n_k() takes 2 positional arguments but 3 were given",
     "output_type": "error",
     "traceback": [
      "\u001b[0;31m---------------------------------------------------------------------------\u001b[0m",
      "\u001b[0;31mTypeError\u001b[0m                                 Traceback (most recent call last)",
      "Cell \u001b[0;32mIn[15], line 24\u001b[0m\n\u001b[1;32m     21\u001b[0m material_test \u001b[38;5;241m=\u001b[39m \u001b[38;5;124m\"\u001b[39m\u001b[38;5;124mWater\u001b[39m\u001b[38;5;124m\"\u001b[39m\n\u001b[1;32m     22\u001b[0m json_path \u001b[38;5;241m=\u001b[39m \u001b[38;5;124m\"\u001b[39m\u001b[38;5;124m../data/material_data.json\u001b[39m\u001b[38;5;124m\"\u001b[39m  \u001b[38;5;66;03m# chemin relatif vers votre fichier JSON\u001b[39;00m\n\u001b[0;32m---> 24\u001b[0m n_val, k_val \u001b[38;5;241m=\u001b[39m \u001b[43mget_n_k\u001b[49m\u001b[43m(\u001b[49m\u001b[43mmaterial_test\u001b[49m\u001b[43m,\u001b[49m\u001b[43m \u001b[49m\u001b[43mlambda_test\u001b[49m\u001b[43m,\u001b[49m\u001b[43m \u001b[49m\u001b[43mjson_path\u001b[49m\u001b[43m)\u001b[49m\n\u001b[1;32m     25\u001b[0m perm_sub \u001b[38;5;241m=\u001b[39m (n_val \u001b[38;5;241m+\u001b[39m \u001b[38;5;241m1\u001b[39mj \u001b[38;5;241m*\u001b[39m k_val) \u001b[38;5;241m*\u001b[39m\u001b[38;5;241m*\u001b[39m \u001b[38;5;241m2\u001b[39m\n\u001b[1;32m     27\u001b[0m \u001b[38;5;66;03m# Paramètres des matériaux\u001b[39;00m\n",
      "\u001b[0;31mTypeError\u001b[0m: get_n_k() takes 2 positional arguments but 3 were given"
     ]
    }
   ],
   "source": [
    "# Paramètres de la structure SWAG\n",
    "geometry = {\n",
    "    \"thick_super\": 200,\n",
    "    \"width_reso\": 30,\n",
    "    \"thick_reso\": 30,\n",
    "    \"thick_gap\": 3,\n",
    "    \"thick_func\": 1,\n",
    "    \"thick_mol\": 2,\n",
    "    \"thick_metalliclayer\": 10,\n",
    "    \"thick_sub\": 200,\n",
    "    \"thick_accroche\": 1,\n",
    "    \"period\": 100.2153\n",
    "}\n",
    "\n",
    "# Paramètres d'onde et de polarisation\n",
    "angle = 0\n",
    "polarization = 1  # 1 pour TM, 0 pour TE\n",
    "lambda_test = 500  # en nm\n",
    "\n",
    "# Exemple de récupération des propriétés d'un matériau via un fichier JSON\n",
    "material_test = \"Water\"\n",
    "json_path = \"../data/material_data.json\"  # chemin relatif vers votre fichier JSON\n",
    "\n",
    "n_val, k_val = get_n_k(material_test, lambda_test, json_path)\n",
    "perm_sub = (n_val + 1j * k_val) ** 2\n",
    "\n",
    "# Paramètres des matériaux\n",
    "perm_env = 1.0\n",
    "perm_dielec = 1.45 ** 2\n",
    "perm_Ag = epsAgbb(lambda_test)\n",
    "perm_Au = epsAubb(lambda_test)\n",
    "\n",
    "materials = {\n",
    "    \"perm_env\": perm_env,\n",
    "    \"perm_dielec\": perm_dielec,\n",
    "    \"perm_sub\": perm_sub,\n",
    "    \"perm_reso\": perm_Ag,\n",
    "    \"perm_metalliclayer\": perm_Au,\n",
    "    \"perm_accroche\": perm_Au\n",
    "}\n",
    "\n",
    "wave = {\"wavelength\": lambda_test, \"angle\": angle, \"polarization\": polarization}\n",
    "n_mod = 100\n"
   ]
  },
  {
   "cell_type": "code",
   "execution_count": null,
   "metadata": {},
   "outputs": [],
   "source": [
    "Rup, Rdown = reflectance(geometry, wave, materials, n_mod)\n",
    "print(\"Réflectance R_up :\", Rup)\n",
    "print(\"Réflectance R_down :\", Rdown)\n"
   ]
  },
  {
   "cell_type": "code",
   "execution_count": null,
   "metadata": {},
   "outputs": [],
   "source": [
    "lambda_range = np.linspace(450, 1000, 100)\n",
    "Rup_arr = np.empty(lambda_range.size)\n",
    "Rdown_arr = np.empty(lambda_range.size)\n",
    "\n",
    "for i, lam in enumerate(lambda_range):\n",
    "    wave[\"wavelength\"] = lam\n",
    "    Rup_arr[i], Rdown_arr[i] = reflectance(geometry, wave, materials, n_mod)\n",
    "\n",
    "plt.figure(figsize=(8, 5))\n",
    "plt.plot(lambda_range, Rup_arr, label=\"R_up\")\n",
    "plt.xlabel(\"Longueur d'onde (nm)\")\n",
    "plt.ylabel(\"Réflectance\")\n",
    "plt.title(\"Réflectance en fonction de la longueur d'onde\")\n",
    "plt.legend()\n",
    "plt.grid(True)\n",
    "plt.show()\n"
   ]
  },
  {
   "cell_type": "code",
   "execution_count": null,
   "metadata": {},
   "outputs": [],
   "source": []
  },
  {
   "cell_type": "code",
   "execution_count": null,
   "metadata": {},
   "outputs": [],
   "source": []
  }
 ],
 "metadata": {
  "kernelspec": {
   "display_name": ".venv",
   "language": "python",
   "name": "python3"
  },
  "language_info": {
   "codemirror_mode": {
    "name": "ipython",
    "version": 3
   },
   "file_extension": ".py",
   "mimetype": "text/x-python",
   "name": "python",
   "nbconvert_exporter": "python",
   "pygments_lexer": "ipython3",
   "version": "3.10.12"
  }
 },
 "nbformat": 4,
 "nbformat_minor": 2
}
