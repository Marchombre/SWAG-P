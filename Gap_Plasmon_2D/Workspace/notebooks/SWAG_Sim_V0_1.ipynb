{
 "cells": [
  {
   "cell_type": "markdown",
   "metadata": {},
   "source": [
    "# SWAG-P Simulation with Gap Plasmon Explorer"
   ]
  },
  {
   "cell_type": "markdown",
   "metadata": {},
   "source": [
    "#### GP Explorer is a handly tools allowing to manipulate GP geometries and visualize its reflectance under differents configurations. \n",
    "#### Then, GP influence on reflectance from red-shift to Fano profils can be studying without programming skills.\n",
    "\n",
    "To begin, remember that a GP<sup><a href=\"#note1\">[1]</a></sup> -a guided electromagnetic wave into dielectric-, must be undertand as a mode of the nano cavity -the so called \"gap\"- between two close metallic regions. As it confines light more than surface plasmon, GPs are even more sensible to non-locality influence. GPs depends obviously on spaces fields variations, the currents density generalized into non local form shows how conductivities becomes a space respons function describing how the surrounding fields influence currents at any points. Consequencies is the space broadening of the electromagnetic fields. In others words, at path means free scale of electrons, the fields scattering reduces the field intensities into the nano-gap. Then taking into account non locality, a blue-shift can be observed. But for now, non locality phenomenom will be neglect in aid of much easier functions as Brendel Bormann discuss later in the document. la fonction BrendelBormann_Faddeeva utilise la fonction faddeeva pour calculer la correction non locale à la permittivité.\n",
    "\n",
    "\n",
    "\n",
    "\n",
    "\n",
    "<p id=\"note1\"><b>[1]</b> A solution of Maxwell's equations without source.</p>"
   ]
  },
  {
   "cell_type": "markdown",
   "metadata": {},
   "source": [
    "In the next cell, we will set up the environment by importing necessary modules and defining paths to required data files ensuring that all dependencies are correctly loaded and accessible for subsequent computations."
   ]
  },
  {
   "cell_type": "code",
   "execution_count": 1,
   "metadata": {},
   "outputs": [],
   "source": [
    "# %% Cellule 1 – Initialisation\n",
    "import sys, os\n",
    "import numpy as np\n",
    "import pandas as pd\n",
    "import matplotlib.pyplot as plt\n",
    "\n",
    "# Ajout du chemin vers le dossier 'modules'\n",
    "module_path = os.path.abspath(os.path.join('/home/chardon-grossard/Bureau/SWAG-P/Gap_Plasmon_2D/Workspace/', 'modules'))\n",
    "if module_path not in sys.path:\n",
    "    sys.path.append(module_path)\n",
    "\n",
    "# Définir le chemin vers le JSON pour ExpData\n",
    "json_path_expdata = os.path.abspath(os.path.join('/home/chardon-grossard/Bureau/SWAG-P/Gap_Plasmon_2D/Workspace/', 'data', 'material_data.json'))\n",
    "\n",
    "# Importation des modules nécessaires\n",
    "from Functions_ExpData import get_n_k, compute_permittivity\n",
    "from MaterialsLoader import load_materials, get_material_params\n",
    "from Material_Configuration import build_material_configuration_dynamic\n",
    "from Function_reflectance_SWAG import reflectance\n",
    "from simulate_reflectance import simulate_reflectance\n",
    "\n",
    "import ipywidgets as widgets\n",
    "from IPython.display import display\n"
   ]
  },
  {
   "cell_type": "code",
   "execution_count": 2,
   "metadata": {},
   "outputs": [
    {
     "data": {
      "application/vnd.jupyter.widget-view+json": {
       "model_id": "8d42106d77054fcd9921632ba2d00af9",
       "version_major": 2,
       "version_minor": 0
      },
      "text/plain": [
       "HBox(children=(Dropdown(description='perm_env', options=('None', 'Custom', 'Ag', 'Air', 'Al', 'Au', 'BK7', 'Co…"
      ]
     },
     "metadata": {},
     "output_type": "display_data"
    },
    {
     "data": {
      "application/vnd.jupyter.widget-view+json": {
       "model_id": "4fb16b63c5984713ad633b2afcf6cb51",
       "version_major": 2,
       "version_minor": 0
      },
      "text/plain": [
       "HBox(children=(Dropdown(description='perm_dielec', options=('None', 'Custom', 'Ag', 'Air', 'Al', 'Au', 'BK7', …"
      ]
     },
     "metadata": {},
     "output_type": "display_data"
    },
    {
     "data": {
      "application/vnd.jupyter.widget-view+json": {
       "model_id": "e6fc0cbab96140228e737d099059fb74",
       "version_major": 2,
       "version_minor": 0
      },
      "text/plain": [
       "HBox(children=(Dropdown(description='perm_sub', options=('None', 'Custom', 'Ag', 'Air', 'Al', 'Au', 'BK7', 'Co…"
      ]
     },
     "metadata": {},
     "output_type": "display_data"
    },
    {
     "data": {
      "application/vnd.jupyter.widget-view+json": {
       "model_id": "01a7abe5011d46d6b8d20220b5a4330b",
       "version_major": 2,
       "version_minor": 0
      },
      "text/plain": [
       "HBox(children=(Dropdown(description='perm_reso', options=('None', 'Custom', 'Ag', 'Air', 'Al', 'Au', 'BK7', 'C…"
      ]
     },
     "metadata": {},
     "output_type": "display_data"
    },
    {
     "data": {
      "application/vnd.jupyter.widget-view+json": {
       "model_id": "8255788fd60f4afab12e17376de83e55",
       "version_major": 2,
       "version_minor": 0
      },
      "text/plain": [
       "HBox(children=(Dropdown(description='perm_metalliclayer', options=('None', 'Custom', 'Ag', 'Air', 'Al', 'Au', …"
      ]
     },
     "metadata": {},
     "output_type": "display_data"
    },
    {
     "data": {
      "application/vnd.jupyter.widget-view+json": {
       "model_id": "5251c1745fb541278ba2759435e0ad63",
       "version_major": 2,
       "version_minor": 0
      },
      "text/plain": [
       "HBox(children=(Dropdown(description='perm_accroche', options=('None', 'Custom', 'Ag', 'Air', 'Al', 'Au', 'BK7'…"
      ]
     },
     "metadata": {},
     "output_type": "display_data"
    },
    {
     "data": {
      "application/vnd.jupyter.widget-view+json": {
       "model_id": "f27cf23d19074787a3671822f56f3442",
       "version_major": 2,
       "version_minor": 0
      },
      "text/plain": [
       "HBox(children=(Dropdown(description='perm_func', options=('None', 'Custom', 'Ag', 'Air', 'Al', 'Au', 'BK7', 'C…"
      ]
     },
     "metadata": {},
     "output_type": "display_data"
    },
    {
     "data": {
      "application/vnd.jupyter.widget-view+json": {
       "model_id": "67b6e452f231487b979fd52d46e2db19",
       "version_major": 2,
       "version_minor": 0
      },
      "text/plain": [
       "HBox(children=(Dropdown(description='perm_mol', options=('None', 'Custom', 'Ag', 'Air', 'Al', 'Au', 'BK7', 'Co…"
      ]
     },
     "metadata": {},
     "output_type": "display_data"
    },
    {
     "data": {
      "application/vnd.jupyter.widget-view+json": {
       "model_id": "bdbef17e72fd402fbaff0da0c29e4add",
       "version_major": 2,
       "version_minor": 0
      },
      "text/plain": [
       "Button(description='Valider la configuration matériaux', style=ButtonStyle())"
      ]
     },
     "metadata": {},
     "output_type": "display_data"
    },
    {
     "data": {
      "application/vnd.jupyter.widget-view+json": {
       "model_id": "4d6c56f7d1964297a83b7456ebe996e5",
       "version_major": 2,
       "version_minor": 0
      },
      "text/plain": [
       "Output()"
      ]
     },
     "metadata": {},
     "output_type": "display_data"
    }
   ],
   "source": [
    "# %% Cellule 2 – Sélection interactive des matériaux\n",
    "\n",
    "# Liste des rôles disponibles dans votre simulation\n",
    "roles = [\"perm_env\", \"perm_dielec\", \"perm_sub\", \"perm_reso\", \"perm_metalliclayer\", \"perm_accroche\", \"perm_func\", \"perm_mol\"]\n",
    "\n",
    "# Listes prédéfinies\n",
    "expdata_materials = [\"BK7\", \"Water\", \"SiA\", \"Si\", \"Air\"]\n",
    "bb_materials = [\"Ag\", \"Au\", \"Cr\", \"Al\", \"Ni\", \"Platinum\", \"Copper\"]\n",
    "\n",
    "# Fusionner et ajouter les options \"None\" et \"Custom\"\n",
    "all_materials = sorted(list(set(expdata_materials + bb_materials)))\n",
    "all_materials_with_options = [\"None\", \"Custom\"] + all_materials\n",
    "\n",
    "# Dictionnaire pour stocker les widgets pour chaque rôle\n",
    "dropdowns = {}\n",
    "text_inputs = {}\n",
    "\n",
    "# Pour chaque rôle, on crée un Dropdown et un Text (initialement masqué)\n",
    "for role in roles:\n",
    "    dropdown = widgets.Dropdown(\n",
    "        options=all_materials_with_options,\n",
    "        description=role,\n",
    "        style={'description_width': 'initial'}\n",
    "    )\n",
    "    # Zone de texte pour saisir une valeur custom, cachée par défaut\n",
    "    text_input = widgets.Text(\n",
    "        value=\"\",\n",
    "        description=\"Custom:\",\n",
    "        style={'description_width': 'initial'},\n",
    "        layout=widgets.Layout(visibility='hidden')\n",
    "    )\n",
    "    \n",
    "    # Fonction callback pour afficher/masquer la zone de texte si \"Custom\" est sélectionné\n",
    "    def on_dropdown_change(change, txt=text_input):\n",
    "        if change['new'] == \"Custom\":\n",
    "            txt.layout.visibility = 'visible'\n",
    "        else:\n",
    "            txt.layout.visibility = 'hidden'\n",
    "            txt.value = \"\"  # Effacer la valeur custom s'il y en avait\n",
    "    \n",
    "    dropdown.observe(lambda change, t=text_input: on_dropdown_change(change, t), names='value')\n",
    "    \n",
    "    # Stocker les widgets dans les dictionnaires\n",
    "    dropdowns[role] = dropdown\n",
    "    text_inputs[role] = text_input\n",
    "    \n",
    "    # Afficher les deux widgets côte à côte\n",
    "    display(widgets.HBox([dropdown, text_input]))\n",
    "\n",
    "# Bouton pour valider la configuration et créer le DataFrame\n",
    "button_create_df = widgets.Button(description=\"Valider la configuration matériaux\")\n",
    "output_df = widgets.Output()\n",
    "display(button_create_df, output_df)\n",
    "\n",
    "def on_create_df(b):\n",
    "    config = {\"key\": [], \"material\": []}\n",
    "    for role in roles:\n",
    "        # Si l'option sélectionnée est \"Custom\", utiliser le contenu du widget Text\n",
    "        if dropdowns[role].value == \"Custom\":\n",
    "            mat_value = text_inputs[role].value.strip()\n",
    "            # Si la zone custom est vide, on enregistre \"None\"\n",
    "            if mat_value == \"\":\n",
    "                mat_value = \"None\"\n",
    "        else:\n",
    "            mat_value = dropdowns[role].value\n",
    "        config[\"key\"].append(role)\n",
    "        config[\"material\"].append(mat_value)\n",
    "    df_config = pd.DataFrame(config)\n",
    "    with output_df:\n",
    "        output_df.clear_output()\n",
    "        print(\"Configuration matériaux sélectionnée:\")\n",
    "        display(df_config)\n",
    "    global MATERIALS_CONFIG\n",
    "    MATERIALS_CONFIG = df_config\n",
    "\n",
    "button_create_df.on_click(on_create_df)\n"
   ]
  },
  {
   "cell_type": "code",
   "execution_count": 3,
   "metadata": {},
   "outputs": [
    {
     "name": "stdout",
     "output_type": "stream",
     "text": [
      "Configuration matériaux obtenue:\n",
      "perm_env : (1+0j)\n",
      "perm_dielec : (1.7635840000000003+0j)\n",
      "perm_sub : (2.282506834619155+0j)\n",
      "perm_reso : (-27.172511539078222+2.826754475180965j)\n",
      "perm_metalliclayer : (-40.06029991951217-0.2413306314051874j)\n",
      "perm_accroche : (-3.074309432706581+14.002769236764227j)\n",
      "perm_func : 1.0\n",
      "perm_mol : 2.0\n"
     ]
    }
   ],
   "source": [
    "# %% Cellule 3 – Construction de la configuration matériaux\n",
    "lambda_test = 800  # Longueur d'onde en nm\n",
    "\n",
    "# On s'assure que MATERIALS_CONFIG a été créé\n",
    "if 'MATERIALS_CONFIG' not in globals():\n",
    "    print(\"Veuillez valider la configuration matériaux dans la cellule précédente.\")\n",
    "else:\n",
    "    materials_perm = build_material_configuration_dynamic(MATERIALS_CONFIG, lambda_test, json_path_expdata)\n",
    "    print(\"Configuration matériaux obtenue:\")\n",
    "    for key, value in materials_perm.items():\n",
    "        print(f\"{key} : {value}\")\n"
   ]
  },
  {
   "cell_type": "code",
   "execution_count": 4,
   "metadata": {},
   "outputs": [
    {
     "name": "stdout",
     "output_type": "stream",
     "text": [
      "Ajustez la géométrie :\n"
     ]
    },
    {
     "data": {
      "application/vnd.jupyter.widget-view+json": {
       "model_id": "a1f92f67d7c04bcb95250154628a75ae",
       "version_major": 2,
       "version_minor": 0
      },
      "text/plain": [
       "FloatSlider(value=200.0, continuous_update=False, description='thick_super', max=200.0, step=1.0, style=Slider…"
      ]
     },
     "metadata": {},
     "output_type": "display_data"
    },
    {
     "data": {
      "application/vnd.jupyter.widget-view+json": {
       "model_id": "c19227ce65354f59b2c82401c7063267",
       "version_major": 2,
       "version_minor": 0
      },
      "text/plain": [
       "FloatSlider(value=30.0, continuous_update=False, description='width_reso', max=200.0, step=1.0, style=SliderSt…"
      ]
     },
     "metadata": {},
     "output_type": "display_data"
    },
    {
     "data": {
      "application/vnd.jupyter.widget-view+json": {
       "model_id": "94ebf52f78554558b08747f9e4d20f25",
       "version_major": 2,
       "version_minor": 0
      },
      "text/plain": [
       "FloatSlider(value=30.0, continuous_update=False, description='thick_reso', max=200.0, step=1.0, style=SliderSt…"
      ]
     },
     "metadata": {},
     "output_type": "display_data"
    },
    {
     "data": {
      "application/vnd.jupyter.widget-view+json": {
       "model_id": "53fc845e0c2d468590913c8a5d7d0670",
       "version_major": 2,
       "version_minor": 0
      },
      "text/plain": [
       "FloatSlider(value=3.0, continuous_update=False, description='thick_gap', max=200.0, step=1.0, style=SliderStyl…"
      ]
     },
     "metadata": {},
     "output_type": "display_data"
    },
    {
     "data": {
      "application/vnd.jupyter.widget-view+json": {
       "model_id": "26265e03a74643bcb5ed9ed8ce2658be",
       "version_major": 2,
       "version_minor": 0
      },
      "text/plain": [
       "FloatSlider(value=1.0, continuous_update=False, description='thick_func', max=200.0, step=1.0, style=SliderSty…"
      ]
     },
     "metadata": {},
     "output_type": "display_data"
    },
    {
     "data": {
      "application/vnd.jupyter.widget-view+json": {
       "model_id": "2d0ccdb7045745ea957b1e38fba12462",
       "version_major": 2,
       "version_minor": 0
      },
      "text/plain": [
       "FloatSlider(value=2.0, continuous_update=False, description='thick_mol', max=200.0, step=1.0, style=SliderStyl…"
      ]
     },
     "metadata": {},
     "output_type": "display_data"
    },
    {
     "data": {
      "application/vnd.jupyter.widget-view+json": {
       "model_id": "363bf135cf7343a39affa8fad45829f4",
       "version_major": 2,
       "version_minor": 0
      },
      "text/plain": [
       "FloatSlider(value=10.0, continuous_update=False, description='thick_metalliclayer', max=200.0, step=1.0, style…"
      ]
     },
     "metadata": {},
     "output_type": "display_data"
    },
    {
     "data": {
      "application/vnd.jupyter.widget-view+json": {
       "model_id": "9ead19cfce6f4e9a9da725f3340dbdf6",
       "version_major": 2,
       "version_minor": 0
      },
      "text/plain": [
       "FloatSlider(value=200.0, continuous_update=False, description='thick_sub', max=200.0, step=1.0, style=SliderSt…"
      ]
     },
     "metadata": {},
     "output_type": "display_data"
    },
    {
     "data": {
      "application/vnd.jupyter.widget-view+json": {
       "model_id": "cd18f6c680244ac4a4e5ddaaf920d9ec",
       "version_major": 2,
       "version_minor": 0
      },
      "text/plain": [
       "FloatSlider(value=1.0, continuous_update=False, description='thick_accroche', max=200.0, step=1.0, style=Slide…"
      ]
     },
     "metadata": {},
     "output_type": "display_data"
    },
    {
     "data": {
      "application/vnd.jupyter.widget-view+json": {
       "model_id": "4648e30f4de84b93b774047fbab72bbb",
       "version_major": 2,
       "version_minor": 0
      },
      "text/plain": [
       "FloatSlider(value=100.2153, continuous_update=False, description='period', max=200.0, step=1.0, style=SliderSt…"
      ]
     },
     "metadata": {},
     "output_type": "display_data"
    },
    {
     "data": {
      "application/vnd.jupyter.widget-view+json": {
       "model_id": "68324a5a036447e0910c528d8464989c",
       "version_major": 2,
       "version_minor": 0
      },
      "text/plain": [
       "Button(description='Mettre à jour la géométrie', style=ButtonStyle())"
      ]
     },
     "metadata": {},
     "output_type": "display_data"
    },
    {
     "name": "stdout",
     "output_type": "stream",
     "text": [
      "Nouvelle géométrie: {'thick_super': 200.0, 'width_reso': 30.0, 'thick_reso': 30.0, 'thick_gap': 3.0, 'thick_func': 1.0, 'thick_mol': 2.0, 'thick_metalliclayer': 10.0, 'thick_sub': 200.0, 'thick_accroche': 1.0, 'period': 100.2153}\n"
     ]
    }
   ],
   "source": [
    "# %% Cellule 4 – Modification interactive de la géométrie\n",
    "# Configuration géométrique par défaut\n",
    "geometry_config = {\n",
    "    \"thick_super\": 200,\n",
    "    \"width_reso\": 30,\n",
    "    \"thick_reso\": 30,\n",
    "    \"thick_gap\": 3,\n",
    "    \"thick_func\": 1,\n",
    "    \"thick_mol\": 2,\n",
    "    \"thick_metalliclayer\": 10,\n",
    "    \"thick_sub\": 200,\n",
    "    \"thick_accroche\": 1,\n",
    "    \"period\": 100.2153\n",
    "}\n",
    "\n",
    "geometry_sliders = {}\n",
    "print(\"Ajustez la géométrie :\")\n",
    "for key, default in geometry_config.items():\n",
    "    slider = widgets.FloatSlider(value=default, min=0, max=200, step=1, description=key, continuous_update=False, style={'description_width': 'initial'})\n",
    "    geometry_sliders[key] = slider\n",
    "    display(slider)\n",
    "\n",
    "button_update_geo = widgets.Button(description=\"Mettre à jour la géométrie\")\n",
    "display(button_update_geo)\n",
    "\n",
    "def update_geometry(b):\n",
    "    for key, slider in geometry_sliders.items():\n",
    "        geometry_config[key] = slider.value\n",
    "    print(\"Nouvelle géométrie:\", geometry_config)\n",
    "    \n",
    "button_update_geo.on_click(update_geometry)\n"
   ]
  },
  {
   "cell_type": "code",
   "execution_count": 5,
   "metadata": {},
   "outputs": [
    {
     "name": "stdout",
     "output_type": "stream",
     "text": [
      "Réflectance finale (Rup, Rdown) pour lambda = 1000.0 : 0.6402684343818866 0.619032048588443\n"
     ]
    },
    {
     "data": {
      "image/png": "[encoded data removed]",
      "text/plain": [
       "<Figure size 1000x600 with 1 Axes>"
      ]
     },
     "metadata": {},
     "output_type": "display_data"
    }
   ],
   "source": [
    "# %% Cellule 5 – Simulation de la réflectance et affichage du résumé\n",
    "from simulate_reflectance import simulate_reflectance\n",
    "\n",
    "# Définir la plage de longueurs d'onde et le nombre de modes RCWA\n",
    "lambda_range = np.linspace(450, 1000, 50)  # en nm\n",
    "n_mod = 50\n",
    "\n",
    "if 'MATERIALS_CONFIG' not in globals():\n",
    "    print(\"Veuillez d'abord valider la configuration matériaux.\")\n",
    "else:\n",
    "    # wave et geometry sont définis à partir des paramètres mis à jour\n",
    "    wave = {\"wavelength\": lambda_range[0], \"angle\": 0, \"polarization\": 1}\n",
    "    geometry = geometry_config.copy()\n",
    "    \n",
    "    # Simulation de la réflectance\n",
    "    Rup_values, Rdown_values = simulate_reflectance(lambda_range, geometry, wave, MATERIALS_CONFIG, json_path_expdata, n_mod)\n",
    "    print(\"Réflectance finale (Rup, Rdown) pour lambda =\", lambda_range[-1], \":\", Rup_values[-1], Rdown_values[-1])\n",
    "    \n",
    "    # Création du plot de la réflectance\n",
    "    plt.figure(figsize=(10,6))\n",
    "    plt.plot(lambda_range, Rup_values, 'o-', label='Rup')\n",
    "    plt.plot(lambda_range, Rdown_values, 's-', label='Rdown')\n",
    "    plt.xlabel(\"Longueur d'onde (nm)\")\n",
    "    plt.ylabel(\"Réflectance\")\n",
    "    plt.legend()\n",
    "    plt.title(\"Simulation de réflectance\")\n",
    "    plt.grid(True)\n",
    "    \n",
    "    # Préparation d'un tableau pour les paramètres géométriques\n",
    "    geom_df = pd.DataFrame(list(geometry_config.items()), columns=['Paramètre Géométrique', 'Valeur'])\n",
    "    # Préparation du tableau pour la configuration matériaux (issus du dropdown)\n",
    "    mat_df = MATERIALS_CONFIG.copy()  # colonnes: key et material\n",
    "    \n",
    "    # Création du tableau récapitulatif avec plt.table (deux tableaux côte à côte)\n",
    "    cellText_geom = geom_df.values.tolist()\n",
    "    cellText_mat = mat_df.values.tolist()\n",
    "    \n",
    "    # Placer le tableau de la géométrie en bas à gauche\n",
    "    table_geom = plt.table(cellText=cellText_geom, colLabels=geom_df.columns,\n",
    "                            loc='bottom', bbox=[0, -0.45, 0.5, 0.3])\n",
    "    table_geom.auto_set_font_size(False)\n",
    "    table_geom.set_fontsize(8)\n",
    "    \n",
    "    # Placer le tableau de la configuration matériaux en bas à droite\n",
    "    table_mat = plt.table(cellText=cellText_mat, colLabels=mat_df.columns,\n",
    "                           loc='bottom', bbox=[0.5, -0.45, 0.5, 0.3])\n",
    "    table_mat.auto_set_font_size(False)\n",
    "    table_mat.set_fontsize(8)\n",
    "    \n",
    "    # Optionnel : ajouter des titres au-dessus des tableaux\n",
    "    plt.text(0.25, -0.5, 'Paramètres Géométriques', ha='center', fontsize=13, transform=plt.gca().transAxes)\n",
    "    plt.text(0.75, -0.5, 'Configuration Matériaux', ha='center', fontsize=13, transform=plt.gca().transAxes)\n",
    "    \n",
    "    plt.subplots_adjust(bottom=0.3)\n",
    "    plt.show()\n"
   ]
  },
  {
   "cell_type": "code",
   "execution_count": null,
   "metadata": {},
   "outputs": [],
   "source": []
  }
 ],
 "metadata": {
  "kernelspec": {
   "display_name": ".venv",
   "language": "python",
   "name": "python3"
  },
  "language_info": {
   "codemirror_mode": {
    "name": "ipython",
    "version": 3
   },
   "file_extension": ".py",
   "mimetype": "text/x-python",
   "name": "python",
   "nbconvert_exporter": "python",
   "pygments_lexer": "ipython3",
   "version": "3.10.12"
  }
 },
 "nbformat": 4,
 "nbformat_minor": 2
}
