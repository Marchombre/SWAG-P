{
 "cells": [
  {
   "cell_type": "markdown",
   "metadata": {},
   "source": [
    "# SWAG-P Simulation with Gap Plasmon Explorer"
   ]
  },
  {
   "cell_type": "markdown",
   "metadata": {},
   "source": [
    "#### GP Explorer is a handly tools allowing to manipulate GP geometries and visualize its reflectance under differents configurations. Then, GP influence on reflectance from red-shift to Fano profils can be studying without programming skills.\n",
    "\n",
    "To begin, remember that a GP<sup><a href=\"#note1\">[1]</a></sup> -a guided electromagnetic wave into dielectric-, must be undertand as a mode of the nano cavity -the so called \"gap\"- between two close metallic regions.\n",
    "\n",
    "\n",
    "\n",
    "\n",
    "\n",
    "<p id=\"note1\"><b>[1]</b> A solution of Maxwell's equations without source.</p>"
   ]
  },
  {
   "cell_type": "markdown",
   "metadata": {},
   "source": [
    "In the next cell, we will set up the environment by importing necessary modules and defining paths to required data files ensuring that all dependencies are correctly loaded and accessible for subsequent computations."
   ]
  },
  {
   "cell_type": "code",
   "execution_count": 1,
   "metadata": {},
   "outputs": [],
   "source": [
    "# %% Cellul 1 – Initialization\n",
    "import sys, os\n",
    "import numpy as np\n",
    "import pandas as pd\n",
    "import matplotlib.pyplot as plt\n",
    "import ipywidgets as widgets\n",
    "from IPython.display import display\n",
    "\n",
    "# Path to the modules folder\n",
    "module_path = os.path.abspath(os.path.join('/home/chardon-grossard/Bureau/SWAG-P/Gap_Plasmon_2D/Workspace/', 'modules'))\n",
    "if module_path not in sys.path:\n",
    "    sys.path.append(module_path)\n",
    "\n",
    "# Path to the data folder\n",
    "json_path = os.path.abspath(os.path.join('/home/chardon-grossard/Bureau/SWAG-P/Gap_Plasmon_2D/Workspace/', 'data', 'combined_materials.json'))"
   ]
  },
  {
   "cell_type": "code",
   "execution_count": 2,
   "metadata": {},
   "outputs": [
    {
     "data": {
      "application/vnd.jupyter.widget-view+json": {
       "model_id": "250c22d2201d480a8d3b6d675a511a94",
       "version_major": 2,
       "version_minor": 0
      },
      "text/plain": [
       "VBox(children=(FloatSlider(value=200.0, continuous_update=False, description='thick_super', max=300.0, step=1.…"
      ]
     },
     "metadata": {},
     "output_type": "display_data"
    }
   ],
   "source": [
    "# %% Cellul 2 – Geometry settings\n",
    "from geometry_settings import create_geometry_widget, geometry_config, wave\n",
    "\n",
    "# Geometry widget\n",
    "geom_widget = create_geometry_widget()\n",
    "display(geom_widget)\n"
   ]
  },
  {
   "cell_type": "code",
   "execution_count": 3,
   "metadata": {},
   "outputs": [
    {
     "data": {
      "application/vnd.jupyter.widget-view+json": {
       "model_id": "cd838856dfb349bebfc1a986a36f5bc5",
       "version_major": 2,
       "version_minor": 0
      },
      "text/plain": [
       "VBox(children=(HBox(children=(Dropdown(description='perm_env', options=('None', 'Custom', 'Ag', 'Air', 'Al', '…"
      ]
     },
     "metadata": {},
     "output_type": "display_data"
    }
   ],
   "source": [
    "# %% Cellul 3 – Material selector\n",
    "from material_selector import create_material_selector\n",
    "\n",
    "material_selector_widget = create_material_selector(json_path)\n",
    "display(material_selector_widget)\n"
   ]
  },
  {
   "cell_type": "code",
   "execution_count": 4,
   "metadata": {},
   "outputs": [
    {
     "name": "stdout",
     "output_type": "stream",
     "text": [
      "Please run the cell below to load the materials configuration.\n"
     ]
    }
   ],
   "source": [
    "# %% Cellul 4 – Material configuration\n",
    "lambda_test = 800  # Wavelenght in nanometers\n",
    "\n",
    "import __main__\n",
    "if not hasattr(__main__, \"MATERIALS_CONFIG\"):\n",
    "    print(\"Please run the cell below to load the materials configuration.\")\n",
    "else:\n",
    "    from Material_Configuration import build_material_configuration_dynamic\n",
    "    materials_perm = build_material_configuration_dynamic(__main__.MATERIALS_CONFIG, lambda_test, json_path)\n",
    "    print(\"Material configuration:\")\n",
    "    for key, value in materials_perm.items():\n",
    "        print(f\"{key} : {value}\")\n"
   ]
  },
  {
   "cell_type": "code",
   "execution_count": 5,
   "metadata": {},
   "outputs": [
    {
     "name": "stdout",
     "output_type": "stream",
     "text": [
      "Please run the cell 3 to load the materials configuration.\n"
     ]
    }
   ],
   "source": [
    "# %% Cellul 5 – Simulation\n",
    "from simulate_and_plot import run_simulation\n",
    "\n",
    "lambda_range = np.linspace(450, 1000, 50)  # en nm\n",
    "n_mod = 50\n",
    "\n",
    "import __main__\n",
    "if not hasattr(__main__, \"MATERIALS_CONFIG\"):\n",
    "    print(\"Please run the cell 3 to load the materials configuration.\")\n",
    "else:\n",
    "    Rup_values, Rdown_values = run_simulation(lambda_range, n_mod, geometry_config, wave, __main__.MATERIALS_CONFIG, json_path)\n",
    "    print(\"End of simulation, reflectance for lambda =\", lambda_range[-1], \":\", Rup_values[-1], Rdown_values[-1])\n"
   ]
  }
 ],
 "metadata": {
  "kernelspec": {
   "display_name": ".venv",
   "language": "python",
   "name": "python3"
  },
  "language_info": {
   "codemirror_mode": {
    "name": "ipython",
    "version": 3
   },
   "file_extension": ".py",
   "mimetype": "text/x-python",
   "name": "python",
   "nbconvert_exporter": "python",
   "pygments_lexer": "ipython3",
   "version": "3.10.12"
  }
 },
 "nbformat": 4,
 "nbformat_minor": 2
}
