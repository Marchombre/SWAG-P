{
 "cells": [
  {
   "cell_type": "markdown",
   "metadata": {},
   "source": [
    "# SWAG-P Simulation with Gap Plasmon Explorer"
   ]
  },
  {
   "cell_type": "markdown",
   "metadata": {},
   "source": [
    "#### GP Explorer is a handly tools allowing to manipulate GP geometries and visualize its reflectance under differents configurations. \n",
    "#### Then, GP influence on reflectance from red-shift to Fano profils can be studying without programming skills.\n",
    "\n",
    "To begin, remember that a GP<sup><a href=\"#note1\">[1]</a></sup> -a guided electromagnetic wave into dielectric-, must be undertand as a mode of the nano cavity -the so called \"gap\"- between two close metallic regions. As it confines light more than surface plasmon, GPs are even more sensible to non-locality influence. GPs depends obviously on spaces fields variations, the currents density generalized into non local form shows how conductivities becomes a space respons function describing how the surrounding fields influence currents at any points. Consequencies is the space broadening of the electromagnetic fields. In others words, at path means free scale of electrons, the fields scattering reduces the field intensities into the nano-gap. Then taking into account non locality, a blue-shift can be observed. But for now, non locality phenomenom will be neglect in aid of much easier functions as Brendel Bormann discuss later in the document. la fonction BrendelBormann_Faddeeva utilise la fonction faddeeva pour calculer la correction non locale à la permittivité.\n",
    "\n",
    "\n",
    "\n",
    "\n",
    "\n",
    "<p id=\"note1\"><b>[1]</b> A solution of Maxwell's equations without source.</p>"
   ]
  },
  {
   "cell_type": "markdown",
   "metadata": {},
   "source": [
    "In the next cell, we will set up the environment by importing necessary modules and defining paths to required data files ensuring that all dependencies are correctly loaded and accessible for subsequent computations."
   ]
  },
  {
   "cell_type": "code",
   "execution_count": 1,
   "metadata": {},
   "outputs": [],
   "source": [
    "# %% Cellule 1 – Initialisation\n",
    "import sys, os\n",
    "import numpy as np\n",
    "import pandas as pd\n",
    "import matplotlib.pyplot as plt\n",
    "\n",
    "# Ajout du chemin vers le dossier 'modules'\n",
    "module_path = os.path.abspath(os.path.join('/home/chardon-grossard/Bureau/SWAG-P/Gap_Plasmon_2D/Workspace/', 'modules'))\n",
    "if module_path not in sys.path:\n",
    "    sys.path.append(module_path)\n",
    "\n",
    "# Définir le chemin vers le JSON pour ExpData\n",
    "json_path_expdata = os.path.abspath(os.path.join('/home/chardon-grossard/Bureau/SWAG-P/Gap_Plasmon_2D/Workspace/', 'data', 'material_data.json'))\n",
    "\n",
    "# Importation des modules nécessaires\n",
    "from Functions_ExpData import get_n_k, compute_permittivity\n",
    "from MaterialsLoader import load_materials, get_material_params\n",
    "from Material_Configuration import build_material_configuration_dynamic\n",
    "from Function_reflectance_SWAG import reflectance\n",
    "from simulate_reflectance import simulate_reflectance\n",
    "\n",
    "import ipywidgets as widgets\n",
    "from IPython.display import display\n"
   ]
  },
  {
   "cell_type": "code",
   "execution_count": 12,
   "metadata": {},
   "outputs": [
    {
     "data": {
      "application/vnd.jupyter.widget-view+json": {
       "model_id": "fb380e897b7a415bbd36981636e92264",
       "version_major": 2,
       "version_minor": 0
      },
      "text/plain": [
       "HBox(children=(Dropdown(description='perm_env', options=('None', 'Custom', 'Ag', 'Air', 'Al', 'Au', 'BK7', 'Co…"
      ]
     },
     "metadata": {},
     "output_type": "display_data"
    },
    {
     "data": {
      "application/vnd.jupyter.widget-view+json": {
       "model_id": "c2dc40e4c4f548f2a270d8e133f46e72",
       "version_major": 2,
       "version_minor": 0
      },
      "text/plain": [
       "HBox(children=(Dropdown(description='perm_dielec', options=('None', 'Custom', 'Ag', 'Air', 'Al', 'Au', 'BK7', …"
      ]
     },
     "metadata": {},
     "output_type": "display_data"
    },
    {
     "data": {
      "application/vnd.jupyter.widget-view+json": {
       "model_id": "01107b57185d43e48b2c96dda88f71f8",
       "version_major": 2,
       "version_minor": 0
      },
      "text/plain": [
       "HBox(children=(Dropdown(description='perm_sub', options=('None', 'Custom', 'Ag', 'Air', 'Al', 'Au', 'BK7', 'Co…"
      ]
     },
     "metadata": {},
     "output_type": "display_data"
    },
    {
     "data": {
      "application/vnd.jupyter.widget-view+json": {
       "model_id": "47ca332ea81d4a588ee9cf36b63fc0a9",
       "version_major": 2,
       "version_minor": 0
      },
      "text/plain": [
       "HBox(children=(Dropdown(description='perm_reso', options=('None', 'Custom', 'Ag', 'Air', 'Al', 'Au', 'BK7', 'C…"
      ]
     },
     "metadata": {},
     "output_type": "display_data"
    },
    {
     "data": {
      "application/vnd.jupyter.widget-view+json": {
       "model_id": "a12a4f920ab84e089937b3b74fa4a74e",
       "version_major": 2,
       "version_minor": 0
      },
      "text/plain": [
       "HBox(children=(Dropdown(description='perm_metalliclayer', options=('None', 'Custom', 'Ag', 'Air', 'Al', 'Au', …"
      ]
     },
     "metadata": {},
     "output_type": "display_data"
    },
    {
     "data": {
      "application/vnd.jupyter.widget-view+json": {
       "model_id": "d045698eef88497b93fcd785c73bd0d6",
       "version_major": 2,
       "version_minor": 0
      },
      "text/plain": [
       "HBox(children=(Dropdown(description='perm_accroche', options=('None', 'Custom', 'Ag', 'Air', 'Al', 'Au', 'BK7'…"
      ]
     },
     "metadata": {},
     "output_type": "display_data"
    },
    {
     "data": {
      "application/vnd.jupyter.widget-view+json": {
       "model_id": "6da54fc84e4a413e916418cbddbc6cda",
       "version_major": 2,
       "version_minor": 0
      },
      "text/plain": [
       "HBox(children=(Dropdown(description='perm_func', options=('None', 'Custom', 'Ag', 'Air', 'Al', 'Au', 'BK7', 'C…"
      ]
     },
     "metadata": {},
     "output_type": "display_data"
    },
    {
     "data": {
      "application/vnd.jupyter.widget-view+json": {
       "model_id": "16788e6e830a457db92f0bb138650e17",
       "version_major": 2,
       "version_minor": 0
      },
      "text/plain": [
       "HBox(children=(Dropdown(description='perm_mol', options=('None', 'Custom', 'Ag', 'Air', 'Al', 'Au', 'BK7', 'Co…"
      ]
     },
     "metadata": {},
     "output_type": "display_data"
    },
    {
     "data": {
      "application/vnd.jupyter.widget-view+json": {
       "model_id": "c7ab15987b9149bdbe9bb4407026605f",
       "version_major": 2,
       "version_minor": 0
      },
      "text/plain": [
       "Button(description='Valider la configuration matériaux', style=ButtonStyle())"
      ]
     },
     "metadata": {},
     "output_type": "display_data"
    },
    {
     "data": {
      "application/vnd.jupyter.widget-view+json": {
       "model_id": "adf0707839e1480fbfcfaccc06ac1230",
       "version_major": 2,
       "version_minor": 0
      },
      "text/plain": [
       "Output()"
      ]
     },
     "metadata": {},
     "output_type": "display_data"
    }
   ],
   "source": [
    "# %% Cellule 2 – Sélection interactive des matériaux\n",
    "\n",
    "# Liste des rôles disponibles dans votre simulation\n",
    "roles = [\"perm_env\", \"perm_dielec\", \"perm_sub\", \"perm_reso\", \"perm_metalliclayer\", \"perm_accroche\", \"perm_func\", \"perm_mol\"]\n",
    "\n",
    "# Listes prédéfinies\n",
    "expdata_materials = [\"BK7\", \"Water\", \"SiA\", \"Si\", \"Air\"]\n",
    "bb_materials = [\"Ag\", \"Au\", \"Cr\", \"Al\", \"Ni\", \"Platinum\", \"Copper\"]\n",
    "\n",
    "# Fusionner et ajouter les options \"None\" et \"Custom\"\n",
    "all_materials = sorted(list(set(expdata_materials + bb_materials)))\n",
    "all_materials_with_options = [\"None\", \"Custom\"] + all_materials\n",
    "\n",
    "# Dictionnaire pour stocker les widgets pour chaque rôle\n",
    "dropdowns = {}\n",
    "text_inputs = {}\n",
    "\n",
    "# Pour chaque rôle, on crée un Dropdown et un Text (initialement masqué)\n",
    "for role in roles:\n",
    "    dropdown = widgets.Dropdown(\n",
    "        options=all_materials_with_options,\n",
    "        description=role,\n",
    "        style={'description_width': 'initial'}\n",
    "    )\n",
    "    # Zone de texte pour saisir une valeur custom, cachée par défaut\n",
    "    text_input = widgets.Text(\n",
    "        value=\"\",\n",
    "        description=\"Custom:\",\n",
    "        style={'description_width': 'initial'},\n",
    "        layout=widgets.Layout(visibility='hidden')\n",
    "    )\n",
    "    \n",
    "    # Fonction callback pour afficher/masquer la zone de texte si \"Custom\" est sélectionné\n",
    "    def on_dropdown_change(change, txt=text_input):\n",
    "        if change['new'] == \"Custom\":\n",
    "            txt.layout.visibility = 'visible'\n",
    "        else:\n",
    "            txt.layout.visibility = 'hidden'\n",
    "            txt.value = \"\"  # Effacer la valeur custom s'il y en avait\n",
    "    \n",
    "    dropdown.observe(lambda change, t=text_input: on_dropdown_change(change, t), names='value')\n",
    "    \n",
    "    # Stocker les widgets dans les dictionnaires\n",
    "    dropdowns[role] = dropdown\n",
    "    text_inputs[role] = text_input\n",
    "    \n",
    "    # Afficher les deux widgets côte à côte\n",
    "    display(widgets.HBox([dropdown, text_input]))\n",
    "\n",
    "# Bouton pour valider la configuration et créer le DataFrame\n",
    "button_create_df = widgets.Button(description=\"Valider la configuration matériaux\")\n",
    "output_df = widgets.Output()\n",
    "display(button_create_df, output_df)\n",
    "\n",
    "def on_create_df(b):\n",
    "    config = {\"key\": [], \"material\": []}\n",
    "    for role in roles:\n",
    "        # Si l'option sélectionnée est \"Custom\", utiliser le contenu du widget Text\n",
    "        if dropdowns[role].value == \"Custom\":\n",
    "            mat_value = text_inputs[role].value.strip()\n",
    "            # Si la zone custom est vide, on enregistre \"None\"\n",
    "            if mat_value == \"\":\n",
    "                mat_value = \"None\"\n",
    "        else:\n",
    "            mat_value = dropdowns[role].value\n",
    "        config[\"key\"].append(role)\n",
    "        config[\"material\"].append(mat_value)\n",
    "    df_config = pd.DataFrame(config)\n",
    "    with output_df:\n",
    "        output_df.clear_output()\n",
    "        print(\"Configuration matériaux sélectionnée:\")\n",
    "        display(df_config)\n",
    "    global MATERIALS_CONFIG\n",
    "    MATERIALS_CONFIG = df_config\n",
    "\n",
    "button_create_df.on_click(on_create_df)\n"
   ]
  },
  {
   "cell_type": "code",
   "execution_count": 14,
   "metadata": {},
   "outputs": [
    {
     "ename": "ValueError",
     "evalue": "Matériau '2' non trouvé dans le fichier JSON.",
     "output_type": "error",
     "traceback": [
      "\u001b[0;31m---------------------------------------------------------------------------\u001b[0m",
      "\u001b[0;31mValueError\u001b[0m                                Traceback (most recent call last)",
      "Cell \u001b[0;32mIn[14], line 8\u001b[0m\n\u001b[1;32m      6\u001b[0m     \u001b[38;5;28mprint\u001b[39m(\u001b[38;5;124m\"\u001b[39m\u001b[38;5;124mVeuillez valider la configuration matériaux dans la cellule précédente.\u001b[39m\u001b[38;5;124m\"\u001b[39m)\n\u001b[1;32m      7\u001b[0m \u001b[38;5;28;01melse\u001b[39;00m:\n\u001b[0;32m----> 8\u001b[0m     materials_perm \u001b[38;5;241m=\u001b[39m \u001b[43mbuild_material_configuration_dynamic\u001b[49m\u001b[43m(\u001b[49m\u001b[43mMATERIALS_CONFIG\u001b[49m\u001b[43m,\u001b[49m\u001b[43m \u001b[49m\u001b[43mlambda_test\u001b[49m\u001b[43m,\u001b[49m\u001b[43m \u001b[49m\u001b[43mjson_path_expdata\u001b[49m\u001b[43m)\u001b[49m\n\u001b[1;32m      9\u001b[0m     \u001b[38;5;28mprint\u001b[39m(\u001b[38;5;124m\"\u001b[39m\u001b[38;5;124mConfiguration matériaux obtenue:\u001b[39m\u001b[38;5;124m\"\u001b[39m)\n\u001b[1;32m     10\u001b[0m     \u001b[38;5;28;01mfor\u001b[39;00m key, value \u001b[38;5;129;01min\u001b[39;00m materials_perm\u001b[38;5;241m.\u001b[39mitems():\n",
      "File \u001b[0;32m~/Bureau/SWAG-P/Gap_Plasmon_2D/Workspace/modules/Material_Configuration.py:31\u001b[0m, in \u001b[0;36mbuild_material_configuration_dynamic\u001b[0;34m(df_config, lambda_val, json_path_expdata)\u001b[0m\n\u001b[1;32m     29\u001b[0m     materials_perm[key] \u001b[38;5;241m=\u001b[39m perm\n\u001b[1;32m     30\u001b[0m \u001b[38;5;28;01melse\u001b[39;00m:\n\u001b[0;32m---> 31\u001b[0m     f0, omega_p, Gamma0, f, omega, gamma, sigma, model \u001b[38;5;241m=\u001b[39m \u001b[43mget_material_params\u001b[49m\u001b[43m(\u001b[49m\u001b[43mmat\u001b[49m\u001b[43m,\u001b[49m\u001b[43m \u001b[49m\u001b[43mmaterials_data\u001b[49m\u001b[43m)\u001b[49m\n\u001b[1;32m     32\u001b[0m     perm \u001b[38;5;241m=\u001b[39m compute_permittivity(lambda_val, f0, omega_p, Gamma0, f, omega, gamma, sigma, N\u001b[38;5;241m=\u001b[39m\u001b[38;5;241m50\u001b[39m)\n\u001b[1;32m     33\u001b[0m     materials_perm[key] \u001b[38;5;241m=\u001b[39m perm\n",
      "File \u001b[0;32m~/Bureau/SWAG-P/Gap_Plasmon_2D/Workspace/modules/MaterialsLoader.py:27\u001b[0m, in \u001b[0;36mget_material_params\u001b[0;34m(material_name, materials_data)\u001b[0m\n\u001b[1;32m     21\u001b[0m \u001b[38;5;250m\u001b[39m\u001b[38;5;124;03m\"\"\"\u001b[39;00m\n\u001b[1;32m     22\u001b[0m \u001b[38;5;124;03mRécupère les paramètres d'un matériau donné depuis le JSON.\u001b[39;00m\n\u001b[1;32m     23\u001b[0m \u001b[38;5;124;03mRetourne également le modèle (par exemple \"BrendelBormann\") pour\u001b[39;00m\n\u001b[1;32m     24\u001b[0m \u001b[38;5;124;03mpermettre de choisir la méthode de calcul.\u001b[39;00m\n\u001b[1;32m     25\u001b[0m \u001b[38;5;124;03m\"\"\"\u001b[39;00m\n\u001b[1;32m     26\u001b[0m \u001b[38;5;28;01mif\u001b[39;00m material_name \u001b[38;5;129;01mnot\u001b[39;00m \u001b[38;5;129;01min\u001b[39;00m materials_data:\n\u001b[0;32m---> 27\u001b[0m     \u001b[38;5;28;01mraise\u001b[39;00m \u001b[38;5;167;01mValueError\u001b[39;00m(\u001b[38;5;124mf\u001b[39m\u001b[38;5;124m\"\u001b[39m\u001b[38;5;124mMatériau \u001b[39m\u001b[38;5;124m'\u001b[39m\u001b[38;5;132;01m{\u001b[39;00mmaterial_name\u001b[38;5;132;01m}\u001b[39;00m\u001b[38;5;124m'\u001b[39m\u001b[38;5;124m non trouvé dans le fichier JSON.\u001b[39m\u001b[38;5;124m\"\u001b[39m)\n\u001b[1;32m     29\u001b[0m material \u001b[38;5;241m=\u001b[39m materials_data[material_name]\n\u001b[1;32m     31\u001b[0m f0 \u001b[38;5;241m=\u001b[39m material[\u001b[38;5;124m\"\u001b[39m\u001b[38;5;124mf0\u001b[39m\u001b[38;5;124m\"\u001b[39m]\n",
      "\u001b[0;31mValueError\u001b[0m: Matériau '2' non trouvé dans le fichier JSON."
     ]
    }
   ],
   "source": [
    "# %% Cellule 3 – Construction de la configuration matériaux\n",
    "lambda_test = 800  # Longueur d'onde en nm\n",
    "\n",
    "# On s'assure que MATERIALS_CONFIG a été créé\n",
    "if 'MATERIALS_CONFIG' not in globals():\n",
    "    print(\"Veuillez valider la configuration matériaux dans la cellule précédente.\")\n",
    "else:\n",
    "    materials_perm = build_material_configuration_dynamic(MATERIALS_CONFIG, lambda_test, json_path_expdata)\n",
    "    print(\"Configuration matériaux obtenue:\")\n",
    "    for key, value in materials_perm.items():\n",
    "        print(f\"{key} : {value}\")\n"
   ]
  },
  {
   "cell_type": "code",
   "execution_count": 8,
   "metadata": {},
   "outputs": [
    {
     "name": "stdout",
     "output_type": "stream",
     "text": [
      "Ajustez la géométrie :\n"
     ]
    },
    {
     "data": {
      "application/vnd.jupyter.widget-view+json": {
       "model_id": "f2bee21f4ab041fb85a21acabf101cb0",
       "version_major": 2,
       "version_minor": 0
      },
      "text/plain": [
       "FloatSlider(value=200.0, continuous_update=False, description='thick_super', max=200.0, step=1.0, style=Slider…"
      ]
     },
     "metadata": {},
     "output_type": "display_data"
    },
    {
     "data": {
      "application/vnd.jupyter.widget-view+json": {
       "model_id": "efd7d66033024917a1390d1b2e995e22",
       "version_major": 2,
       "version_minor": 0
      },
      "text/plain": [
       "FloatSlider(value=30.0, continuous_update=False, description='width_reso', max=200.0, step=1.0, style=SliderSt…"
      ]
     },
     "metadata": {},
     "output_type": "display_data"
    },
    {
     "data": {
      "application/vnd.jupyter.widget-view+json": {
       "model_id": "87da8372db664319818c053687938d33",
       "version_major": 2,
       "version_minor": 0
      },
      "text/plain": [
       "FloatSlider(value=30.0, continuous_update=False, description='thick_reso', max=200.0, step=1.0, style=SliderSt…"
      ]
     },
     "metadata": {},
     "output_type": "display_data"
    },
    {
     "data": {
      "application/vnd.jupyter.widget-view+json": {
       "model_id": "4e6e005f4d7948279866b2bc1b6dd33a",
       "version_major": 2,
       "version_minor": 0
      },
      "text/plain": [
       "FloatSlider(value=3.0, continuous_update=False, description='thick_gap', max=200.0, step=1.0, style=SliderStyl…"
      ]
     },
     "metadata": {},
     "output_type": "display_data"
    },
    {
     "data": {
      "application/vnd.jupyter.widget-view+json": {
       "model_id": "02a6d38dc3624dfe96d6c8b230d03ac1",
       "version_major": 2,
       "version_minor": 0
      },
      "text/plain": [
       "FloatSlider(value=1.0, continuous_update=False, description='thick_func', max=200.0, step=1.0, style=SliderSty…"
      ]
     },
     "metadata": {},
     "output_type": "display_data"
    },
    {
     "data": {
      "application/vnd.jupyter.widget-view+json": {
       "model_id": "e2506cde675c49c18b9114f020c4aab3",
       "version_major": 2,
       "version_minor": 0
      },
      "text/plain": [
       "FloatSlider(value=2.0, continuous_update=False, description='thick_mol', max=200.0, step=1.0, style=SliderStyl…"
      ]
     },
     "metadata": {},
     "output_type": "display_data"
    },
    {
     "data": {
      "application/vnd.jupyter.widget-view+json": {
       "model_id": "bb0156f75b7f4c868d28185bde099434",
       "version_major": 2,
       "version_minor": 0
      },
      "text/plain": [
       "FloatSlider(value=10.0, continuous_update=False, description='thick_metalliclayer', max=200.0, step=1.0, style…"
      ]
     },
     "metadata": {},
     "output_type": "display_data"
    },
    {
     "data": {
      "application/vnd.jupyter.widget-view+json": {
       "model_id": "345043b6488b4f9b9a51b7678a78223c",
       "version_major": 2,
       "version_minor": 0
      },
      "text/plain": [
       "FloatSlider(value=200.0, continuous_update=False, description='thick_sub', max=200.0, step=1.0, style=SliderSt…"
      ]
     },
     "metadata": {},
     "output_type": "display_data"
    },
    {
     "data": {
      "application/vnd.jupyter.widget-view+json": {
       "model_id": "3de584ff86144a9980d412028cd0f3ce",
       "version_major": 2,
       "version_minor": 0
      },
      "text/plain": [
       "FloatSlider(value=1.0, continuous_update=False, description='thick_accroche', max=200.0, step=1.0, style=Slide…"
      ]
     },
     "metadata": {},
     "output_type": "display_data"
    },
    {
     "data": {
      "application/vnd.jupyter.widget-view+json": {
       "model_id": "f858f6211cc34d9a9f06ee4594e7c368",
       "version_major": 2,
       "version_minor": 0
      },
      "text/plain": [
       "FloatSlider(value=100.2153, continuous_update=False, description='period', max=200.0, step=1.0, style=SliderSt…"
      ]
     },
     "metadata": {},
     "output_type": "display_data"
    },
    {
     "data": {
      "application/vnd.jupyter.widget-view+json": {
       "model_id": "8837b826fa8e4ba4a56b6135664cbf15",
       "version_major": 2,
       "version_minor": 0
      },
      "text/plain": [
       "Button(description='Mettre à jour la géométrie', style=ButtonStyle())"
      ]
     },
     "metadata": {},
     "output_type": "display_data"
    },
    {
     "name": "stdout",
     "output_type": "stream",
     "text": [
      "Nouvelle géométrie: {'thick_super': 200.0, 'width_reso': 30.0, 'thick_reso': 30.0, 'thick_gap': 3.0, 'thick_func': 1.0, 'thick_mol': 2.0, 'thick_metalliclayer': 10.0, 'thick_sub': 200.0, 'thick_accroche': 1.0, 'period': 100.2153}\n"
     ]
    }
   ],
   "source": [
    "# %% Cellule 4 – Modification interactive de la géométrie\n",
    "# Configuration géométrique par défaut\n",
    "geometry_config = {\n",
    "    \"thick_super\": 200,\n",
    "    \"width_reso\": 30,\n",
    "    \"thick_reso\": 30,\n",
    "    \"thick_gap\": 3,\n",
    "    \"thick_func\": 1,\n",
    "    \"thick_mol\": 2,\n",
    "    \"thick_metalliclayer\": 10,\n",
    "    \"thick_sub\": 200,\n",
    "    \"thick_accroche\": 1,\n",
    "    \"period\": 100.2153\n",
    "}\n",
    "\n",
    "geometry_sliders = {}\n",
    "print(\"Ajustez la géométrie :\")\n",
    "for key, default in geometry_config.items():\n",
    "    slider = widgets.FloatSlider(value=default, min=0, max=200, step=1, description=key, continuous_update=False, style={'description_width': 'initial'})\n",
    "    geometry_sliders[key] = slider\n",
    "    display(slider)\n",
    "\n",
    "button_update_geo = widgets.Button(description=\"Mettre à jour la géométrie\")\n",
    "display(button_update_geo)\n",
    "\n",
    "def update_geometry(b):\n",
    "    for key, slider in geometry_sliders.items():\n",
    "        geometry_config[key] = slider.value\n",
    "    print(\"Nouvelle géométrie:\", geometry_config)\n",
    "    \n",
    "button_update_geo.on_click(update_geometry)\n"
   ]
  },
  {
   "cell_type": "code",
   "execution_count": 10,
   "metadata": {},
   "outputs": [
    {
     "name": "stdout",
     "output_type": "stream",
     "text": [
      "Réflectance finale (Rup, Rdown) pour lambda = 1000.0 : 0.6402684343818866 0.619032048588443\n"
     ]
    },
    {
     "data": {
      "image/png": "[encoded data removed]",
      "text/plain": [
       "<Figure size 1000x600 with 1 Axes>"
      ]
     },
     "metadata": {},
     "output_type": "display_data"
    }
   ],
   "source": [
    "# %% Cellule 5 – Simulation de la réflectance et affichage du résumé\n",
    "from simulate_reflectance import simulate_reflectance\n",
    "\n",
    "# Définir la plage de longueurs d'onde et le nombre de modes RCWA\n",
    "lambda_range = np.linspace(450, 1000, 50)  # en nm\n",
    "n_mod = 50\n",
    "\n",
    "if 'MATERIALS_CONFIG' not in globals():\n",
    "    print(\"Veuillez d'abord valider la configuration matériaux.\")\n",
    "else:\n",
    "    # wave et geometry sont définis à partir des paramètres mis à jour\n",
    "    wave = {\"wavelength\": lambda_range[0], \"angle\": 0, \"polarization\": 1}\n",
    "    geometry = geometry_config.copy()\n",
    "    \n",
    "    # Simulation de la réflectance\n",
    "    Rup_values, Rdown_values = simulate_reflectance(lambda_range, geometry, wave, MATERIALS_CONFIG, json_path_expdata, n_mod)\n",
    "    print(\"Réflectance finale (Rup, Rdown) pour lambda =\", lambda_range[-1], \":\", Rup_values[-1], Rdown_values[-1])\n",
    "    \n",
    "    # Création du plot de la réflectance\n",
    "    plt.figure(figsize=(10,6))\n",
    "    plt.plot(lambda_range, Rup_values, 'o-', label='Rup')\n",
    "    plt.plot(lambda_range, Rdown_values, 's-', label='Rdown')\n",
    "    plt.xlabel(\"Longueur d'onde (nm)\")\n",
    "    plt.ylabel(\"Réflectance\")\n",
    "    plt.legend()\n",
    "    plt.title(\"Simulation de réflectance\")\n",
    "    plt.grid(True)\n",
    "    \n",
    "    # Préparation d'un tableau pour les paramètres géométriques\n",
    "    geom_df = pd.DataFrame(list(geometry_config.items()), columns=['Paramètre Géométrique', 'Valeur'])\n",
    "    # Préparation du tableau pour la configuration matériaux (issus du dropdown)\n",
    "    mat_df = MATERIALS_CONFIG.copy()  # colonnes: key et material\n",
    "    \n",
    "    # Création du tableau récapitulatif avec plt.table (deux tableaux côte à côte)\n",
    "    cellText_geom = geom_df.values.tolist()\n",
    "    cellText_mat = mat_df.values.tolist()\n",
    "    \n",
    "    # Placer le tableau de la géométrie en bas à gauche\n",
    "    table_geom = plt.table(cellText=cellText_geom, colLabels=geom_df.columns,\n",
    "                            loc='bottom', bbox=[0, -0.45, 0.5, 0.3])\n",
    "    table_geom.auto_set_font_size(False)\n",
    "    table_geom.set_fontsize(8)\n",
    "    \n",
    "    # Placer le tableau de la configuration matériaux en bas à droite\n",
    "    table_mat = plt.table(cellText=cellText_mat, colLabels=mat_df.columns,\n",
    "                           loc='bottom', bbox=[0.5, -0.45, 0.5, 0.3])\n",
    "    table_mat.auto_set_font_size(False)\n",
    "    table_mat.set_fontsize(8)\n",
    "    \n",
    "    # Optionnel : ajouter des titres au-dessus des tableaux\n",
    "    plt.text(0.25, -0.5, 'Paramètres Géométriques', ha='center', fontsize=13, transform=plt.gca().transAxes)\n",
    "    plt.text(0.75, -0.5, 'Configuration Matériaux', ha='center', fontsize=13, transform=plt.gca().transAxes)\n",
    "    \n",
    "    plt.subplots_adjust(bottom=0.3)\n",
    "    plt.show()\n"
   ]
  },
  {
   "cell_type": "code",
   "execution_count": null,
   "metadata": {},
   "outputs": [],
   "source": []
  }
 ],
 "metadata": {
  "kernelspec": {
   "display_name": ".venv",
   "language": "python",
   "name": "python3"
  },
  "language_info": {
   "codemirror_mode": {
    "name": "ipython",
    "version": 3
   },
   "file_extension": ".py",
   "mimetype": "text/x-python",
   "name": "python",
   "nbconvert_exporter": "python",
   "pygments_lexer": "ipython3",
   "version": "3.10.12"
  }
 },
 "nbformat": 4,
 "nbformat_minor": 2
}
