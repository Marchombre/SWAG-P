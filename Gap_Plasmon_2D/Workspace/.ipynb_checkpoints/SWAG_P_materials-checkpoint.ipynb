{
 "cells": [
  {
   "cell_type": "markdown",
   "metadata": {},
   "source": [
    "# Gap Plasmon Resonance"
   ]
  },
  {
   "cell_type": "code",
   "execution_count": null,
   "metadata": {},
   "outputs": [],
   "source": []
  },
  {
   "cell_type": "code",
   "execution_count": 6,
   "metadata": {},
   "outputs": [],
   "source": [
    "import PyMoosh as pm\n",
    "import numpy as np\n",
    "import matplotlib.pyplot as plt\n",
    "from scipy.special import erf\n",
    "from scipy.linalg import toeplitz, inv\n",
    "import json"
   ]
  },
  {
   "cell_type": "code",
   "execution_count": null,
   "metadata": {},
   "outputs": [],
   "source": []
  },
  {
   "cell_type": "code",
   "execution_count": 7,
   "metadata": {},
   "outputs": [],
   "source": [
    "### Chargement des matériaux depuis le fichier JSON\n",
    "with open('/home/chardon-grossard/Bureau/SWAG-P/Gap_Plasmon_2D/Workspace/data/material_data.json') as file:\n",
    "    data = json.load(file)"
   ]
  },
  {
   "cell_type": "code",
   "execution_count": null,
   "metadata": {},
   "outputs": [],
   "source": []
  },
  {
   "cell_type": "code",
   "execution_count": 8,
   "metadata": {},
   "outputs": [],
   "source": [
    "def get_n_k(material_name, lam):\n",
    "    \"\"\"\n",
    "    Récupère l'indice de réfraction complexe (n + i*k) pour un matériau donné à une longueur d'onde donnée.\n",
    "    \n",
    "    Paramètres :\n",
    "      - material_name : Nom du matériau dans le JSON (ex: \"BK7\", \"Water\", \"SiA\").\n",
    "      - lam : Longueur d'onde en nm.\n",
    "      \n",
    "    Retourne :\n",
    "      - n (partie réelle de l'indice de réfraction)\n",
    "      - k (partie imaginaire, absorption)\n",
    "    \"\"\"\n",
    "    if material_name not in data:\n",
    "        raise ValueError(f\"Le matériau '{material_name}' n'est pas dans la base de données.\")\n",
    "\n",
    "    material = data[material_name]\n",
    "\n",
    "    if material[\"model\"] == \"ExpData\":\n",
    "        wl = np.array(material[\"wavelength_list\"])\n",
    "        epsilon_real = np.array(material[\"permittivities\"])\n",
    "        epsilon_imag = np.array(material.get(\"permittivities_imag\", np.zeros_like(epsilon_real)))\n",
    "\n",
    "        if lam < wl[0] or lam > wl[-1]:\n",
    "            raise ValueError(f\"La longueur d'onde {lam} nm est hors de l'intervalle [{wl[0]}, {wl[-1]}] nm pour {material_name}.\")\n",
    "\n",
    "        eps_r = np.interp(lam, wl, epsilon_real)\n",
    "        eps_i = np.interp(lam, wl, epsilon_imag)\n",
    "        eps_complex = eps_r + 1.0j * eps_i\n",
    "        n_complex = np.sqrt(eps_complex)\n",
    "        n = np.real(n_complex)\n",
    "        k = np.imag(n_complex)\n",
    "        return n, k\n",
    "    else:\n",
    "        raise ValueError(f\"Le modèle '{material['model']}' pour {material_name} n'est pas supporté.\")\n"
   ]
  },
  {
   "cell_type": "code",
   "execution_count": null,
   "metadata": {},
   "outputs": [],
   "source": []
  },
  {
   "cell_type": "code",
   "execution_count": 9,
   "metadata": {},
   "outputs": [
    {
     "name": "stdout",
     "output_type": "stream",
     "text": [
      "Pour Water à 500 nm :\n",
      "  n = 1.337437\n",
      "  k = 0.000000\n"
     ]
    }
   ],
   "source": [
    "# Test de get_n_k\n",
    "material_test = \"Water\"\n",
    "lambda_test = 500  # nm\n",
    "try:\n",
    "    n_value, k_value = get_n_k(material_test, lambda_test)\n",
    "    print(f\"Pour {material_test} à {lambda_test} nm :\")\n",
    "    print(f\"  n = {n_value:.6f}\")\n",
    "    print(f\"  k = {k_value:.6f}\")\n",
    "except ValueError as e:\n",
    "    print(e)"
   ]
  },
  {
   "cell_type": "code",
   "execution_count": null,
   "metadata": {},
   "outputs": [],
   "source": []
  },
  {
   "cell_type": "code",
   "execution_count": 10,
   "metadata": {},
   "outputs": [],
   "source": [
    "### Fonctions pour le calcul de la permittivité par les modèles de dispersion\n",
    "def faddeeva(z, N):\n",
    "    \"\"\"Calcul approximatif de la fonction de Faddeeva.\"\"\"\n",
    "    w = np.zeros(z.size, dtype=complex)\n",
    "    idx = np.real(z) == 0\n",
    "    w[idx] = np.exp(-np.abs(z[idx]**2)) * (1 - erf(np.imag(z[idx])))\n",
    "    idx = np.invert(idx)\n",
    "    idx1 = idx + (np.imag(z) < 0)\n",
    "    z[idx1] = np.conj(z[idx1])\n",
    "    M = 2 * N\n",
    "    M2 = 2 * M\n",
    "    k = np.arange(-M + 1, M)\n",
    "    L = np.sqrt(N / np.sqrt(2))\n",
    "    theta = k * np.pi / M\n",
    "    t = L * np.tan(theta / 2)\n",
    "    f = np.exp(-t**2) * (L**2 + t**2)\n",
    "    f = np.append(0, f)\n",
    "    a = np.real(np.fft.fft(np.fft.fftshift(f))) / M2\n",
    "    a = np.flipud(a[1:N+1])\n",
    "    Z = (L + 1.0j * z[idx]) / (L - 1.0j * z[idx])\n",
    "    p = np.polyval(a, Z)\n",
    "    w[idx] = 2 * p / (L - 1.0j * z[idx])**2 + (1 / np.sqrt(np.pi)) / (L - 1.0j * z[idx])\n",
    "    w[idx1] = np.conj(2 * np.exp(-z[idx1]**2) - w[idx1])\n",
    "    return w"
   ]
  },
  {
   "cell_type": "code",
   "execution_count": null,
   "metadata": {},
   "outputs": [],
   "source": []
  },
  {
   "cell_type": "code",
   "execution_count": 11,
   "metadata": {},
   "outputs": [],
   "source": [
    "def epsAubb(lam):\n",
    "    \"\"\"Permet de calculer la permittivité de l'or (Au) via le modèle Brendel-Bormann.\"\"\"\n",
    "    w = 6.62606957e-25 * 299792458 / 1.602176565e-19 / lam\n",
    "    f0 = 0.770; Gamma0 = 0.050; omega_p = 9.03\n",
    "    f = np.array([0.054, 0.050, 0.312, 0.719, 1.648])\n",
    "    Gamma = np.array([0.074, 0.035, 0.083, 0.125, 0.179])\n",
    "    omega = np.array([0.218, 2.885, 4.069, 6.137, 27.97])\n",
    "    sigma = np.array([0.742, 0.349, 0.830, 1.246, 1.795])\n",
    "    a = np.sqrt(w * (w + 1.0j * Gamma))\n",
    "    a = a * np.sign(np.real(a))\n",
    "    x = (a - omega) / (np.sqrt(2) * sigma)\n",
    "    y = (a + omega) / (np.sqrt(2) * sigma)\n",
    "    epsilon = 1 - omega_p**2 * f0 / (w * (w + 1.0j * Gamma0)) \\\n",
    "              + np.sum(1.0j * np.sqrt(np.pi) * f * omega_p**2 / (2 * np.sqrt(2) * a * sigma) * (faddeeva(x, 64) + faddeeva(y, 64)))\n",
    "    return epsilon"
   ]
  },
  {
   "cell_type": "code",
   "execution_count": null,
   "metadata": {},
   "outputs": [],
   "source": []
  },
  {
   "cell_type": "code",
   "execution_count": 12,
   "metadata": {},
   "outputs": [],
   "source": [
    "def epsAgbb(lam):\n",
    "    \"\"\"Permet de calculer la permittivité de l'argent (Ag) via le modèle Brendel-Bormann.\"\"\"\n",
    "    w = 6.62606957e-25 * 299792458 / 1.602176565e-19 / lam\n",
    "    f0 = 0.821; Gamma0 = 0.049; omega_p = 9.01\n",
    "    f = np.array([0.050, 0.133, 0.051, 0.467, 4.000])\n",
    "    Gamma = np.array([0.189, 0.067, 0.019, 0.117, 0.052])\n",
    "    omega = np.array([2.025, 5.185, 4.343, 9.809, 18.56])\n",
    "    sigma = np.array([1.894, 0.665, 0.189, 1.170, 0.516])\n",
    "    a = np.sqrt(w * (w + 1.0j * Gamma))\n",
    "    a = a * np.sign(np.real(a))\n",
    "    x = (a - omega) / (np.sqrt(2) * sigma)\n",
    "    y = (a + omega) / (np.sqrt(2) * sigma)\n",
    "    aha = 1.0j * np.sqrt(np.pi) * f * omega_p**2 / (2 * np.sqrt(2) * a * sigma) * (faddeeva(x, 64) + faddeeva(y, 64))\n",
    "    epsilon = 1 - omega_p**2 * f0 / (w * (w + 1.0j * Gamma0)) + np.sum(aha)\n",
    "    return epsilon"
   ]
  },
  {
   "cell_type": "code",
   "execution_count": null,
   "metadata": {},
   "outputs": [],
   "source": []
  },
  {
   "cell_type": "code",
   "execution_count": 13,
   "metadata": {},
   "outputs": [],
   "source": [
    "def epsCrbb(lam):\n",
    "    \"\"\"Permet de calculer la permittivité du chrome (Cr) via le modèle Brendel-Bormann.\"\"\"\n",
    "    w = 6.62606957e-25 * 299792458 / 1.602176565e-19 / lam\n",
    "    f0 = 0.154; Gamma0 = 0.048; omega_p = 10.75\n",
    "    f = np.array([0.338, 0.261, 0.817, 0.105])\n",
    "    Gamma = np.array([4.256, 3.957, 2.218, 6.983])\n",
    "    omega = np.array([0.281, 0.584, 1.919, 6.997])\n",
    "    sigma = np.array([0.115, 0.252, 0.225, 4.903])\n",
    "    a = np.sqrt(w * (w + 1.0j * Gamma))\n",
    "    a = a * np.sign(np.real(a))\n",
    "    x = (a - omega) / (np.sqrt(2) * sigma)\n",
    "    y = (a + omega) / (np.sqrt(2) * sigma)\n",
    "    aha = 1.0j * np.sqrt(np.pi) * f * omega_p**2 / (2 * np.sqrt(2) * a * sigma) * (faddeeva(x, 64) + faddeeva(y, 64))\n",
    "    epsilon = 1 - omega_p**2 * f0 / (w * (w + 1.0j * Gamma0)) + np.sum(aha)\n",
    "    return epsilon"
   ]
  },
  {
   "cell_type": "code",
   "execution_count": null,
   "metadata": {},
   "outputs": [],
   "source": []
  },
  {
   "cell_type": "code",
   "execution_count": 14,
   "metadata": {},
   "outputs": [],
   "source": [
    "def epsAlbb(lam):\n",
    "    \"\"\"Permet de calculer la permittivité de l'aluminium (Al) via le modèle Brendel-Bormann.\"\"\"\n",
    "    w = 6.62606957e-25 * 299792458 / 1.602176565e-19 / lam\n",
    "    f0 = 0.526; Gamma0 = 0.047; omega_p = 14.98\n",
    "    f = np.array([0.213, 0.060, 0.182, 0.014])\n",
    "    Gamma = np.array([0.312, 0.315, 1.587, 2.145])\n",
    "    omega = np.array([0.163, 1.561, 1.827, 4.495])\n",
    "    sigma = np.array([0.013, 0.042, 0.256, 1.735])\n",
    "    a = np.sqrt(w * (w + 1.0j * Gamma))\n",
    "    a = a * np.sign(np.real(a))\n",
    "    x = (a - omega) / (np.sqrt(2) * sigma)\n",
    "    y = (a + omega) / (np.sqrt(2) * sigma)\n",
    "    aha = 1.0j * np.sqrt(np.pi) * f * omega_p**2 / (2 * np.sqrt(2) * a * sigma) * (faddeeva(x, 64) + faddeeva(y, 64))\n",
    "    epsilon = 1 - omega_p**2 * f0 / (w * (w + 1.0j * Gamma0)) + np.sum(aha)\n",
    "    return epsilon"
   ]
  },
  {
   "cell_type": "code",
   "execution_count": null,
   "metadata": {},
   "outputs": [],
   "source": []
  },
  {
   "cell_type": "code",
   "execution_count": 15,
   "metadata": {},
   "outputs": [],
   "source": [
    "def epsNibb(lam):\n",
    "    \"\"\"Permet de calculer la permittivité du nickel (Ni) via le modèle Brendel-Bormann.\"\"\"\n",
    "    w = 6.62606957e-25 * 299792458 / 1.602176565e-19 / lam\n",
    "    f0 = 0.083; Gamma0 = 0.022; omega_p = 15.92\n",
    "    f = np.array([0.357, 0.039, 0.127, 0.654])\n",
    "    Gamma = np.array([2.820, 0.120, 1.822, 6.637])\n",
    "    omega = np.array([0.317, 1.059, 4.583, 8.825])\n",
    "    sigma = np.array([0.606, 1.454, 0.379, 0.510])\n",
    "    a = np.sqrt(w * (w + 1.0j * Gamma))\n",
    "    a = a * np.sign(np.real(a))\n",
    "    x = (a - omega) / (np.sqrt(2) * sigma)\n",
    "    y = (a + omega) / (np.sqrt(2) * sigma)\n",
    "    aha = 1.0j * np.sqrt(np.pi) * f * omega_p**2 / (2 * np.sqrt(2) * a * sigma) * (faddeeva(x, 64) + faddeeva(y, 64))\n",
    "    epsilon = 1 - omega_p**2 * f0 / (w * (w + 1.0j * Gamma0)) + np.sum(aha)\n",
    "    return epsilon"
   ]
  },
  {
   "cell_type": "code",
   "execution_count": null,
   "metadata": {},
   "outputs": [],
   "source": []
  },
  {
   "cell_type": "code",
   "execution_count": 16,
   "metadata": {},
   "outputs": [],
   "source": [
    "### Fonctions RCWA\n",
    "\n",
    "def cascade(T, U):\n",
    "    '''Cascade deux matrices de diffusion T et U (dimensions 2n x 2n).'''\n",
    "    n = int(T.shape[1] / 2)\n",
    "    J = np.linalg.inv(np.eye(n) - np.matmul(U[0:n, 0:n], T[n:2*n, n:2*n]))\n",
    "    K = np.linalg.inv(np.eye(n) - np.matmul(T[n:2*n, n:2*n], U[0:n, 0:n]))\n",
    "    S = np.block([\n",
    "        [T[0:n, 0:n] + np.matmul(np.matmul(np.matmul(T[0:n, n:2*n], J), U[0:n, 0:n]), T[n:2*n, 0:n]),\n",
    "         np.matmul(np.matmul(T[0:n, n:2*n], J), U[0:n, n:2*n])],\n",
    "        [np.matmul(np.matmul(U[n:2*n, 0:n], K), T[n:2*n, 0:n]),\n",
    "         U[n:2*n, n:2*n] + np.matmul(np.matmul(np.matmul(U[n:2*n, 0:n], K), T[n:2*n, n:2*n]), U[0:n, n:2*n])]\n",
    "    ])\n",
    "    return S"
   ]
  },
  {
   "cell_type": "code",
   "execution_count": null,
   "metadata": {},
   "outputs": [],
   "source": []
  },
  {
   "cell_type": "code",
   "execution_count": 17,
   "metadata": {},
   "outputs": [],
   "source": [
    "def c_bas(A, V, h):\n",
    "    '''Cascade la matrice de diffusion A avec la propagation d'une couche de hauteur h.'''\n",
    "    n = int(A.shape[1] / 2)\n",
    "    D = np.diag(np.exp(1j * V * h))\n",
    "    S = np.block([\n",
    "        [A[0:n, 0:n], np.matmul(A[0:n, n:2*n], D)],\n",
    "        [np.matmul(D, A[n:2*n, 0:n]), np.matmul(np.matmul(D, A[n:2*n, n:2*n]), D)]\n",
    "    ])\n",
    "    return S"
   ]
  },
  {
   "cell_type": "code",
   "execution_count": null,
   "metadata": {},
   "outputs": [],
   "source": []
  },
  {
   "cell_type": "code",
   "execution_count": 18,
   "metadata": {},
   "outputs": [],
   "source": [
    "def c_haut(A, valp, h):\n",
    "    n = int(A[0].size / 2)\n",
    "    D = np.diag(np.exp(1j * valp * h))\n",
    "    S11 = np.dot(D, np.dot(A[0:n, 0:n], D))\n",
    "    S12 = np.dot(D, A[0:n, n:2*n])\n",
    "    S21 = np.dot(A[n:2*n, 0:n], D)\n",
    "    S22 = A[n:2*n, n:2*n]\n",
    "    S1 = np.append(S11, S12, axis=1)\n",
    "    S2 = np.append(S21, S22, axis=1)\n",
    "    S = np.append(S1, S2, axis=0)\n",
    "    return S  "
   ]
  },
  {
   "cell_type": "code",
   "execution_count": null,
   "metadata": {},
   "outputs": [],
   "source": []
  },
  {
   "cell_type": "code",
   "execution_count": 19,
   "metadata": {},
   "outputs": [],
   "source": [
    "def intermediaire(T, U):\n",
    "    n = int(T.shape[0] / 2)\n",
    "    H = np.linalg.inv(np.eye(n) - np.matmul(U[0:n, 0:n], T[n:2*n, n:2*n]))\n",
    "    K = np.linalg.inv(np.eye(n) - np.matmul(T[n:2*n, n:2*n], U[0:n, 0:n]))\n",
    "    a = np.matmul(K, T[n:2*n, 0:n])\n",
    "    b = np.matmul(K, np.matmul(T[n:2*n, n:2*n], U[0:n, n:2*n]))\n",
    "    c = np.matmul(H, np.matmul(U[0:n, 0:n], T[n:2*n, 0:n]))\n",
    "    d = np.matmul(H, U[0:n, n:2*n])\n",
    "    S = np.block([[a, b], [c, d]])\n",
    "    return S"
   ]
  },
  {
   "cell_type": "code",
   "execution_count": null,
   "metadata": {},
   "outputs": [],
   "source": []
  },
  {
   "cell_type": "code",
   "execution_count": 20,
   "metadata": {},
   "outputs": [],
   "source": [
    "def couche(valp, h):\n",
    "    n = len(valp)\n",
    "    AA = np.diag(np.exp(1j * valp * h))\n",
    "    C = np.block([[np.zeros((n, n)), AA], [AA, np.zeros((n, n))]])\n",
    "    return C"
   ]
  },
  {
   "cell_type": "code",
   "execution_count": null,
   "metadata": {},
   "outputs": [],
   "source": []
  },
  {
   "cell_type": "code",
   "execution_count": 21,
   "metadata": {},
   "outputs": [],
   "source": [
    "def step(a, b, w, x0, n):\n",
    "    '''Calcule la matrice de Toeplitz générée par la série de Fourier d'une fonction en escalier.'''\n",
    "    tmp = np.exp(-2 * 1j * np.pi * (x0 + w / 2) * np.arange(0, n)) * np.sinc(w * np.arange(0, n)) * w\n",
    "    l = np.conj(tmp) * (b - a)\n",
    "    m = tmp * (b - a)\n",
    "    l[0] = l[0] + a\n",
    "    m[0] = l[0]\n",
    "    T = toeplitz(l, m)\n",
    "    return T"
   ]
  },
  {
   "cell_type": "code",
   "execution_count": null,
   "metadata": {},
   "outputs": [],
   "source": []
  },
  {
   "cell_type": "code",
   "execution_count": 22,
   "metadata": {},
   "outputs": [],
   "source": [
    "def grating(k0, a0, pol, e1, e2, n, blocs):\n",
    "    '''Génère la matrice de Fourier pour un réseau constitué de blocs de matériau e2 dans un milieu e1.'''\n",
    "    n_blocs = blocs.shape[0]\n",
    "    nmod = int(n / 2)\n",
    "    M1 = e1 * np.eye(n, dtype=complex)\n",
    "    M2 = 1 / e1 * np.eye(n, dtype=complex)\n",
    "    for k in range(n_blocs):\n",
    "        M1 = M1 + step(0, e2 - e1, blocs[k, 0], blocs[k, 1], n)\n",
    "        M2 = M2 + step(0, 1 / e2 - 1 / e1, blocs[k, 0], blocs[k, 1], n)\n",
    "    alpha = np.diag(a0 + 2 * np.pi * np.arange(-nmod, nmod + 1)) + 0j\n",
    "    if pol == 0:\n",
    "        M = alpha * alpha - k0**2 * M1\n",
    "        L, E = np.linalg.eig(M)\n",
    "        L = np.sqrt(-L + 0j)\n",
    "        L = (1 - 2 * (np.imag(L) < -1e-15)) * L\n",
    "        P = np.block([[E], [np.matmul(E, np.diag(L))]])\n",
    "    else:\n",
    "        T_inv = np.linalg.inv(M2)\n",
    "        M = np.matmul(np.matmul(np.matmul(T_inv, alpha), np.linalg.inv(M1)), alpha) - k0**2 * T_inv\n",
    "        L, E = np.linalg.eig(M)\n",
    "        L = np.sqrt(-L + 0j)\n",
    "        L = (1 - 2 * (np.imag(L) < -1e-15)) * L\n",
    "        P = np.block([[E], [np.matmul(np.matmul(M2, E), np.diag(L))]])\n",
    "    return P, L"
   ]
  },
  {
   "cell_type": "code",
   "execution_count": null,
   "metadata": {},
   "outputs": [],
   "source": []
  },
  {
   "cell_type": "code",
   "execution_count": 23,
   "metadata": {},
   "outputs": [],
   "source": [
    "def homogene(k0, a0, pol, epsilon, n):\n",
    "    nmod = int(n / 2)\n",
    "    valp = np.sqrt(epsilon * k0**2 - (a0 + 2 * np.pi * np.arange(-nmod, nmod + 1))**2 + 0j)\n",
    "    valp = valp * (1 - 2 * (valp < 0))\n",
    "    P = np.block([[np.eye(n, dtype=complex)], [np.diag(valp * (pol / epsilon + (1 - pol)))]])\n",
    "    return P, valp\n"
   ]
  },
  {
   "cell_type": "code",
   "execution_count": null,
   "metadata": {},
   "outputs": [],
   "source": []
  },
  {
   "cell_type": "code",
   "execution_count": 24,
   "metadata": {},
   "outputs": [],
   "source": [
    "def interface(P, Q):\n",
    "    '''Calcule la matrice de diffusion d'une interface à partir de P et Q.'''\n",
    "    n = int(P.shape[1])\n",
    "    A = np.block([[P[0:n, 0:n], -Q[0:n, 0:n]],\n",
    "                  [P[n:2*n, 0:n],  Q[n:2*n, 0:n]]])\n",
    "    B = np.block([[-P[0:n, 0:n], Q[0:n, 0:n]],\n",
    "                  [ P[n:2*n, 0:n], Q[n:2*n, 0:n]]])\n",
    "    S = np.matmul(np.linalg.inv(A), B)\n",
    "    return S"
   ]
  },
  {
   "cell_type": "code",
   "execution_count": null,
   "metadata": {},
   "outputs": [],
   "source": []
  },
  {
   "cell_type": "code",
   "execution_count": 25,
   "metadata": {},
   "outputs": [],
   "source": [
    "def HErmes(T, U, V, P, Amp, ny, h, a0):\n",
    "    n = int(np.shape(T)[0] / 2)\n",
    "    nmod = int((n - 1) / 2)\n",
    "    nx = n\n",
    "    X = np.matmul(intermediaire(T, cascade(couche(V, h), U)), Amp.reshape(Amp.size, 1))\n",
    "    D = X[0:n]\n",
    "    X = np.matmul(intermediaire(cascade(T, couche(V, h)), U), Amp.reshape(Amp.size, 1))\n",
    "    E = X[n:2*n]\n",
    "    M = np.zeros((ny, nx - 1), dtype=complex)\n",
    "    for k in range(ny):\n",
    "        y = h / ny * (k + 1)\n",
    "        Fourier = np.matmul(P, np.matmul(np.diag(np.exp(1j * V * y)), D) + np.matmul(np.diag(np.exp(1j * V * (h - y))), E))\n",
    "        MM = np.fft.ifftshift(Fourier[0:len(Fourier) - 1])\n",
    "        M[k, :] = MM.reshape(len(MM))\n",
    "    M = np.conj(np.fft.ifft(np.conj(M).T, axis=0)).T * n\n",
    "    x, y = np.meshgrid(np.linspace(0, 1, nx - 1), np.linspace(0, 1, ny))\n",
    "    M = M * np.exp(1j * a0 * x)\n",
    "    return M\n"
   ]
  },
  {
   "cell_type": "code",
   "execution_count": null,
   "metadata": {},
   "outputs": [],
   "source": []
  },
  {
   "cell_type": "code",
   "execution_count": 26,
   "metadata": {},
   "outputs": [],
   "source": [
    "### Fonction reflectance SWAG\n",
    "\n",
    "def reflectance(geometry, wave, materials, n_mod):\n",
    "    period = geometry[\"period\"]\n",
    "    width_reso = geometry[\"width_reso\"] / period\n",
    "    thick_reso = geometry[\"thick_reso\"] / period\n",
    "    thick_gap = geometry[\"thick_gap\"] / period\n",
    "    thick_func = geometry[\"thick_func\"] / period\n",
    "    thick_mol = geometry[\"thick_mol\"] / period\n",
    "    thick_metalliclayer = geometry[\"thick_metalliclayer\"] / period\n",
    "    thick_sub = geometry[\"thick_sub\"] / period\n",
    "    thick_accroche = geometry[\"thick_accroche\"] / period \n",
    "\n",
    "    wavelength = wave[\"wavelength\"] / period\n",
    "    angle = wave[\"angle\"]\n",
    "    polarization = wave[\"polarization\"]\n",
    "\n",
    "    perm_env = materials[\"perm_env\"]\n",
    "    perm_dielec = materials[\"perm_dielec\"]\n",
    "    perm_sub = materials[\"perm_sub\"]\n",
    "    perm_reso = materials[\"perm_reso\"]\n",
    "    perm_metalliclayer = materials[\"perm_metalliclayer\"]\n",
    "    perm_accroche = materials[\"perm_accroche\"]\n",
    "\n",
    "    pos_reso = np.array([[width_reso, (1 - width_reso) / 2]])\n",
    "    n = 2 * n_mod + 1\n",
    "    k0 = 2 * np.pi / wavelength\n",
    "    a0 = k0 * np.sin(angle * np.pi / 180)\n",
    "    Pup, Vup = homogene(k0, a0, polarization, perm_env, n)\n",
    "    S = np.block([[np.zeros([n, n], dtype=complex), np.eye(n, dtype=complex)],\n",
    "                  [np.eye(n, dtype=complex), np.zeros([n, n], dtype=complex)]])\n",
    "\n",
    "    if thick_mol < (thick_gap - thick_func):\n",
    "        P1, V1 = grating(k0, a0, polarization, perm_env, perm_reso, n, pos_reso)\n",
    "        S = cascade(S, interface(Pup, P1))\n",
    "        S = c_bas(S, V1, thick_reso)\n",
    "    \n",
    "        P2, V2 = grating(k0, a0, polarization, perm_env, perm_dielec, n, pos_reso)\n",
    "        S = cascade(S, interface(P1, P2))\n",
    "        S = c_bas(S, V2, thick_gap - (thick_mol + thick_func))\n",
    "    \n",
    "        P3, V3 = homogene(k0, a0, polarization, perm_dielec, n)\n",
    "        S = cascade(S, interface(P2, P3))\n",
    "        S = c_bas(S, V3, thick_mol + thick_func)\n",
    "    \n",
    "    else:\n",
    "        P1, V1 = grating(k0, a0, polarization, perm_env, perm_reso, n, pos_reso)\n",
    "        S = cascade(S, interface(Pup, P1))\n",
    "        S = c_bas(S, V1, thick_reso - (thick_mol - (thick_gap - thick_func)))\n",
    "    \n",
    "        P2, V2 = grating(k0, a0, polarization, perm_dielec, perm_reso, n, pos_reso)\n",
    "        S = cascade(S, interface(P1, P2))\n",
    "        S = c_bas(S, V2, thick_mol - (thick_gap - thick_func))\n",
    "    \n",
    "        P3, V3 = homogene(k0, a0, polarization, perm_dielec, n)\n",
    "        S = cascade(S, interface(P2, P3))\n",
    "        S = c_bas(S, V3, thick_gap)\n",
    "    \n",
    "    Pmetalliclayer, Vmetalliclayer = homogene(k0, a0, polarization, perm_metalliclayer, n)\n",
    "    S = cascade(S, interface(P3, Pmetalliclayer))\n",
    "    S = c_bas(S, Vmetalliclayer, thick_metalliclayer)\n",
    "    \n",
    "    Pacc, Vacc = homogene(k0, a0, polarization, perm_accroche, n)\n",
    "    S = cascade(S, interface(Pmetalliclayer, Pacc))\n",
    "    S = c_bas(S, Vacc, thick_accroche)\n",
    "    \n",
    "    Pdown, Vdown = homogene(k0, a0, polarization, perm_sub, n)\n",
    "    S = cascade(S, interface(Pacc, Pdown))\n",
    "    S = c_bas(S, Vdown, thick_sub)\n",
    "    \n",
    "    Rup = abs(S[n_mod, n_mod]) ** 2 \n",
    "    Rdown = abs(S[n + n_mod, n + n_mod]) ** 2 \n",
    "    return Rup, Rdown\n"
   ]
  },
  {
   "cell_type": "code",
   "execution_count": null,
   "metadata": {},
   "outputs": [],
   "source": []
  },
  {
   "cell_type": "code",
   "execution_count": 27,
   "metadata": {},
   "outputs": [],
   "source": [
    "### Définition des paramètres de la structure SWAG\n",
    "thick_super = 200\n",
    "width_reso = 30      # largeur du cube\n",
    "thick_reso = width_reso  # hauteur du cube\n",
    "thick_gap = 3        # hauteur du diélectrique en dessous du cube\n",
    "thick_func = 1       # présent partout\n",
    "thick_mol = 2        # épaisseur si molécules détectées\n",
    "thick_metal = 10     # hauteur de la couche métallique (or)\n",
    "thick_accroche = 1   # couche d'accroche \n",
    "period = 100.2153\n",
    "thick_sub = 200\n",
    "\n",
    "angle = 0\n",
    "polarization = 1     # 1 pour TM, 0 pour TE"
   ]
  },
  {
   "cell_type": "code",
   "execution_count": null,
   "metadata": {},
   "outputs": [],
   "source": []
  },
  {
   "cell_type": "code",
   "execution_count": 28,
   "metadata": {},
   "outputs": [],
   "source": [
    "## Paramètres des matériaux de base\n",
    "perm_env = 1.0\n",
    "perm_dielec = 1.45 ** 2  # matériau spacer\n",
    "# Pour l'indice du substrat, on récupère n et k pour \"SiA\" et on calcule ε = (n + i*k)**2\n",
    "n_value, k_value = get_n_k(material_test, lambda_test)\n",
    "perm_sub_base = (n_value + 1j * k_value) ** 2\n",
    "\n",
    "perm_Ag = epsAgbb(lambda_test)  # argent\n",
    "perm_Au = epsAubb(lambda_test)  # or\n",
    "perm_Cr = epsCrbb(lambda_test)   # chrome (si besoin)"
   ]
  },
  {
   "cell_type": "code",
   "execution_count": null,
   "metadata": {},
   "outputs": [],
   "source": []
  },
  {
   "cell_type": "code",
   "execution_count": 29,
   "metadata": {},
   "outputs": [],
   "source": [
    "materials = {\n",
    "    \"perm_env\": perm_env,\n",
    "    \"perm_dielec\": perm_dielec,\n",
    "    \"perm_sub\": perm_sub_base,\n",
    "    \"perm_reso\": perm_Ag,\n",
    "    \"perm_metalliclayer\": perm_Au,\n",
    "    \"perm_accroche\": perm_Au\n",
    "}\n",
    "\n",
    "wave = {\"wavelength\": lambda_test, \"angle\": angle, \"polarization\": polarization}\n",
    "\n",
    "n_mod = 100 \n",
    "geometry = {\n",
    "    \"thick_super\": thick_super,\n",
    "    \"width_reso\": width_reso,\n",
    "    \"thick_reso\": thick_reso,\n",
    "    \"thick_gap\": thick_gap,\n",
    "    \"thick_func\": thick_func,\n",
    "    \"thick_mol\": thick_mol,\n",
    "    \"thick_metalliclayer\": thick_metal,\n",
    "    \"thick_sub\": thick_sub,\n",
    "    \"thick_accroche\": thick_accroche,\n",
    "    \"period\": period\n",
    "}\n"
   ]
  },
  {
   "cell_type": "code",
   "execution_count": null,
   "metadata": {},
   "outputs": [],
   "source": []
  },
  {
   "cell_type": "code",
   "execution_count": 30,
   "metadata": {},
   "outputs": [
    {
     "ename": "KeyboardInterrupt",
     "evalue": "",
     "output_type": "error",
     "traceback": [
      "\u001b[0;31m---------------------------------------------------------------------------\u001b[0m",
      "\u001b[0;31mKeyboardInterrupt\u001b[0m                         Traceback (most recent call last)",
      "Cell \u001b[0;32mIn[30], line 25\u001b[0m\n\u001b[1;32m     16\u001b[0m materials \u001b[38;5;241m=\u001b[39m {\n\u001b[1;32m     17\u001b[0m     \u001b[38;5;124m\"\u001b[39m\u001b[38;5;124mperm_env\u001b[39m\u001b[38;5;124m\"\u001b[39m: perm_env,\n\u001b[1;32m     18\u001b[0m     \u001b[38;5;124m\"\u001b[39m\u001b[38;5;124mperm_dielec\u001b[39m\u001b[38;5;124m\"\u001b[39m: perm_dielec,\n\u001b[0;32m   (...)\u001b[0m\n\u001b[1;32m     22\u001b[0m     \u001b[38;5;124m\"\u001b[39m\u001b[38;5;124mperm_accroche\u001b[39m\u001b[38;5;124m\"\u001b[39m: perm_Au\n\u001b[1;32m     23\u001b[0m }\n\u001b[1;32m     24\u001b[0m wave \u001b[38;5;241m=\u001b[39m {\u001b[38;5;124m\"\u001b[39m\u001b[38;5;124mwavelength\u001b[39m\u001b[38;5;124m\"\u001b[39m: wavelength, \u001b[38;5;124m\"\u001b[39m\u001b[38;5;124mangle\u001b[39m\u001b[38;5;124m\"\u001b[39m: angle, \u001b[38;5;124m\"\u001b[39m\u001b[38;5;124mpolarization\u001b[39m\u001b[38;5;124m\"\u001b[39m: polarization}\n\u001b[0;32m---> 25\u001b[0m Ru_material_test[idx_wav], Rd_material_test[idx_wav] \u001b[38;5;241m=\u001b[39m \u001b[43mreflectance\u001b[49m\u001b[43m(\u001b[49m\u001b[43mgeometry\u001b[49m\u001b[43m,\u001b[49m\u001b[43m \u001b[49m\u001b[43mwave\u001b[49m\u001b[43m,\u001b[49m\u001b[43m \u001b[49m\u001b[43mmaterials\u001b[49m\u001b[43m,\u001b[49m\u001b[43m \u001b[49m\u001b[43mn_mod\u001b[49m\u001b[43m)\u001b[49m\n",
      "Cell \u001b[0;32mIn[26], line 51\u001b[0m, in \u001b[0;36mreflectance\u001b[0;34m(geometry, wave, materials, n_mod)\u001b[0m\n\u001b[1;32m     48\u001b[0m S \u001b[38;5;241m=\u001b[39m cascade(S, interface(Pup, P1))\n\u001b[1;32m     49\u001b[0m S \u001b[38;5;241m=\u001b[39m c_bas(S, V1, thick_reso \u001b[38;5;241m-\u001b[39m (thick_mol \u001b[38;5;241m-\u001b[39m (thick_gap \u001b[38;5;241m-\u001b[39m thick_func)))\n\u001b[0;32m---> 51\u001b[0m P2, V2 \u001b[38;5;241m=\u001b[39m \u001b[43mgrating\u001b[49m\u001b[43m(\u001b[49m\u001b[43mk0\u001b[49m\u001b[43m,\u001b[49m\u001b[43m \u001b[49m\u001b[43ma0\u001b[49m\u001b[43m,\u001b[49m\u001b[43m \u001b[49m\u001b[43mpolarization\u001b[49m\u001b[43m,\u001b[49m\u001b[43m \u001b[49m\u001b[43mperm_dielec\u001b[49m\u001b[43m,\u001b[49m\u001b[43m \u001b[49m\u001b[43mperm_reso\u001b[49m\u001b[43m,\u001b[49m\u001b[43m \u001b[49m\u001b[43mn\u001b[49m\u001b[43m,\u001b[49m\u001b[43m \u001b[49m\u001b[43mpos_reso\u001b[49m\u001b[43m)\u001b[49m\n\u001b[1;32m     52\u001b[0m S \u001b[38;5;241m=\u001b[39m cascade(S, interface(P1, P2))\n\u001b[1;32m     53\u001b[0m S \u001b[38;5;241m=\u001b[39m c_bas(S, V2, thick_mol \u001b[38;5;241m-\u001b[39m (thick_gap \u001b[38;5;241m-\u001b[39m thick_func))\n",
      "Cell \u001b[0;32mIn[22], line 20\u001b[0m, in \u001b[0;36mgrating\u001b[0;34m(k0, a0, pol, e1, e2, n, blocs)\u001b[0m\n\u001b[1;32m     18\u001b[0m T_inv \u001b[38;5;241m=\u001b[39m np\u001b[38;5;241m.\u001b[39mlinalg\u001b[38;5;241m.\u001b[39minv(M2)\n\u001b[1;32m     19\u001b[0m M \u001b[38;5;241m=\u001b[39m np\u001b[38;5;241m.\u001b[39mmatmul(np\u001b[38;5;241m.\u001b[39mmatmul(np\u001b[38;5;241m.\u001b[39mmatmul(T_inv, alpha), np\u001b[38;5;241m.\u001b[39mlinalg\u001b[38;5;241m.\u001b[39minv(M1)), alpha) \u001b[38;5;241m-\u001b[39m k0\u001b[38;5;241m*\u001b[39m\u001b[38;5;241m*\u001b[39m\u001b[38;5;241m2\u001b[39m \u001b[38;5;241m*\u001b[39m T_inv\n\u001b[0;32m---> 20\u001b[0m L, E \u001b[38;5;241m=\u001b[39m \u001b[43mnp\u001b[49m\u001b[38;5;241;43m.\u001b[39;49m\u001b[43mlinalg\u001b[49m\u001b[38;5;241;43m.\u001b[39;49m\u001b[43meig\u001b[49m\u001b[43m(\u001b[49m\u001b[43mM\u001b[49m\u001b[43m)\u001b[49m\n\u001b[1;32m     21\u001b[0m L \u001b[38;5;241m=\u001b[39m np\u001b[38;5;241m.\u001b[39msqrt(\u001b[38;5;241m-\u001b[39mL \u001b[38;5;241m+\u001b[39m \u001b[38;5;241m0\u001b[39mj)\n\u001b[1;32m     22\u001b[0m L \u001b[38;5;241m=\u001b[39m (\u001b[38;5;241m1\u001b[39m \u001b[38;5;241m-\u001b[39m \u001b[38;5;241m2\u001b[39m \u001b[38;5;241m*\u001b[39m (np\u001b[38;5;241m.\u001b[39mimag(L) \u001b[38;5;241m<\u001b[39m \u001b[38;5;241m-\u001b[39m\u001b[38;5;241m1e-15\u001b[39m)) \u001b[38;5;241m*\u001b[39m L\n",
      "File \u001b[0;32m~/Bureau/SWAG-P/Gap_Plasmon_2D/.venv/lib/python3.10/site-packages/numpy/linalg/_linalg.py:1472\u001b[0m, in \u001b[0;36meig\u001b[0;34m(a)\u001b[0m\n\u001b[1;32m   1468\u001b[0m signature \u001b[38;5;241m=\u001b[39m \u001b[38;5;124m'\u001b[39m\u001b[38;5;124mD->DD\u001b[39m\u001b[38;5;124m'\u001b[39m \u001b[38;5;28;01mif\u001b[39;00m isComplexType(t) \u001b[38;5;28;01melse\u001b[39;00m \u001b[38;5;124m'\u001b[39m\u001b[38;5;124md->DD\u001b[39m\u001b[38;5;124m'\u001b[39m\n\u001b[1;32m   1469\u001b[0m \u001b[38;5;28;01mwith\u001b[39;00m errstate(call\u001b[38;5;241m=\u001b[39m_raise_linalgerror_eigenvalues_nonconvergence,\n\u001b[1;32m   1470\u001b[0m               invalid\u001b[38;5;241m=\u001b[39m\u001b[38;5;124m'\u001b[39m\u001b[38;5;124mcall\u001b[39m\u001b[38;5;124m'\u001b[39m, over\u001b[38;5;241m=\u001b[39m\u001b[38;5;124m'\u001b[39m\u001b[38;5;124mignore\u001b[39m\u001b[38;5;124m'\u001b[39m, divide\u001b[38;5;241m=\u001b[39m\u001b[38;5;124m'\u001b[39m\u001b[38;5;124mignore\u001b[39m\u001b[38;5;124m'\u001b[39m,\n\u001b[1;32m   1471\u001b[0m               under\u001b[38;5;241m=\u001b[39m\u001b[38;5;124m'\u001b[39m\u001b[38;5;124mignore\u001b[39m\u001b[38;5;124m'\u001b[39m):\n\u001b[0;32m-> 1472\u001b[0m     w, vt \u001b[38;5;241m=\u001b[39m \u001b[43m_umath_linalg\u001b[49m\u001b[38;5;241;43m.\u001b[39;49m\u001b[43meig\u001b[49m\u001b[43m(\u001b[49m\u001b[43ma\u001b[49m\u001b[43m,\u001b[49m\u001b[43m \u001b[49m\u001b[43msignature\u001b[49m\u001b[38;5;241;43m=\u001b[39;49m\u001b[43msignature\u001b[49m\u001b[43m)\u001b[49m\n\u001b[1;32m   1474\u001b[0m \u001b[38;5;28;01mif\u001b[39;00m \u001b[38;5;129;01mnot\u001b[39;00m isComplexType(t) \u001b[38;5;129;01mand\u001b[39;00m \u001b[38;5;28mall\u001b[39m(w\u001b[38;5;241m.\u001b[39mimag \u001b[38;5;241m==\u001b[39m \u001b[38;5;241m0.0\u001b[39m):\n\u001b[1;32m   1475\u001b[0m     w \u001b[38;5;241m=\u001b[39m w\u001b[38;5;241m.\u001b[39mreal\n",
      "\u001b[0;31mKeyboardInterrupt\u001b[0m: "
     ]
    }
   ],
   "source": [
    "# Définir une plage de longueurs d'onde (par exemple de 400 nm à 1000 nm)\n",
    "lambda_range = np.linspace(450, 1000, 100)  # 100 points\n",
    "Ru_material_test = np.empty(lambda_range.size)\n",
    "Rd_material_test = np.empty(lambda_range.size)\n",
    "\n",
    "# Boucle sur la plage de longueurs d'onde\n",
    "for idx_wav, wavelength in enumerate(lambda_range):\n",
    "    # Mise à jour des permittivités pour chaque longueur d'onde\n",
    "    perm_Ag = epsAgbb(wavelength)\n",
    "    perm_Au = epsAubb(wavelength)\n",
    "    \n",
    "    # Calcul de la permittivité du substrat via SiA : ε = (n + i*k)**2\n",
    "    n_val, k_val = get_n_k(material_test, wavelength)\n",
    "    perm_material_test = (n_val + 1j * k_val)**2\n",
    "\n",
    "    materials = {\n",
    "        \"perm_env\": perm_env,\n",
    "        \"perm_dielec\": perm_dielec,\n",
    "        \"perm_sub\": perm_material_test,\n",
    "        \"perm_reso\": perm_Ag,\n",
    "        \"perm_metalliclayer\": perm_Au,\n",
    "        \"perm_accroche\": perm_Au\n",
    "    }\n",
    "    wave = {\"wavelength\": wavelength, \"angle\": angle, \"polarization\": polarization}\n",
    "    Ru_material_test[idx_wav], Rd_material_test[idx_wav] = reflectance(geometry, wave, materials, n_mod)\n"
   ]
  },
  {
   "cell_type": "code",
   "execution_count": null,
   "metadata": {},
   "outputs": [],
   "source": []
  },
  {
   "cell_type": "code",
   "execution_count": null,
   "metadata": {},
   "outputs": [],
   "source": [
    "# Tracé du graphe de réflectance Rup en fonction de la longueur d'onde\n",
    "plt.figure(figsize=(8, 5))\n",
    "plt.plot(lambda_range, Ru_material_test, label=f\"Au thick : {int(thick_metal)} nm\")\n",
    "plt.xlabel(\"Wavelength (nm)\")\n",
    "plt.ylabel(\"Reflectance (Rup)\")\n",
    "plt.title(\"Réflectance R_up en fonction de la longueur d'onde\")\n",
    "plt.legend()\n",
    "plt.grid(True)\n",
    "plt.savefig(\"material_test_Rup.jpg\")\n",
    "plt.show(block=False)\n",
    "\n",
    "# Sauvegarde des résultats\n",
    "R = [Ru_material_test, Rd_material_test]\n",
    "np.savez(\"data_accroches_all_Rdown-Rup.npz\", list_wavelength=lambda_range, R=R)"
   ]
  },
  {
   "cell_type": "code",
   "execution_count": null,
   "metadata": {},
   "outputs": [],
   "source": []
  }
 ],
 "metadata": {
  "kernelspec": {
   "display_name": "Python (.venv)",
   "language": "python",
   "name": ".venv"
  },
  "language_info": {
   "codemirror_mode": {
    "name": "ipython",
    "version": 3
   },
   "file_extension": ".py",
   "mimetype": "text/x-python",
   "name": "python",
   "nbconvert_exporter": "python",
   "pygments_lexer": "ipython3",
   "version": "3.10.12"
  }
 },
 "nbformat": 4,
 "nbformat_minor": 4
}
