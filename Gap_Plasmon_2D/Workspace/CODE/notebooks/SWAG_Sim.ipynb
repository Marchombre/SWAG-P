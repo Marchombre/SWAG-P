{
 "cells": [
  {
   "cell_type": "code",
   "execution_count": 6,
   "metadata": {},
   "outputs": [],
   "source": [
    "import sys, os\n",
    "# Ajouter le chemin vers le dossier 'modules'\n",
    "module_path = os.path.abspath(os.path.join('/home/chardon-grossard/Bureau/SWAG-P/Gap_Plasmon_2D/Workspace/CODE/', 'modules'))\n",
    "if module_path not in sys.path:\n",
    "    sys.path.append(module_path)\n",
    "\n",
    "import numpy as np\n",
    "import matplotlib.pyplot as plt\n",
    "\n",
    "from Functions_materials_models_dispertion import epsAubb, epsAgbb # Pour récup permitivité des métaux\n",
    "from Function_reflectance_SWAG import reflectance\n",
    "from Functions_RCWA import cascade, c_bas, c_haut, intermediaire, couche, step, grating, homogene, interface, HErmes"
   ]
  },
  {
   "cell_type": "code",
   "execution_count": 9,
   "metadata": {},
   "outputs": [
    {
     "name": "stdout",
     "output_type": "stream",
     "text": [
      "Chemin vers le fichier JSON : /home/chardon-grossard/Bureau/SWAG-P/Gap_Plasmon_2D/Workspace/CODE/data/material_data.json\n"
     ]
    }
   ],
   "source": [
    "# Définir le chemin relatif vers le fichier JSON (en supposant que le dossier 'data' se trouve au même niveau que 'modules')\n",
    "json_path = os.path.abspath(os.path.join('/home/chardon-grossard/Bureau/SWAG-P/Gap_Plasmon_2D/Workspace/CODE/', 'data', 'material_data.json'))\n",
    "\n",
    "print(\"Chemin vers le fichier JSON :\", json_path)\n",
    "\n",
    "# Exemple d'utilisation avec get_n_k\n",
    "from Functions import get_n_k # importe fonctions pour récup n et k\n"
   ]
  },
  {
   "cell_type": "code",
   "execution_count": 11,
   "metadata": {},
   "outputs": [
    {
     "name": "stdout",
     "output_type": "stream",
     "text": [
      "For SiA at 500 nm: n = 4.467695, k = 1.090821\n"
     ]
    }
   ],
   "source": [
    "material_test = \"SiA\"\n",
    "lambda_test = 500  # en nm\n",
    "\n",
    "n_val, k_val = get_n_k(material_test, lambda_test, json_path)\n",
    "print(f\"For {material_test} at {lambda_test} nm: n = {n_val:.6f}, k = {k_val:.6f}\")"
   ]
  },
  {
   "cell_type": "code",
   "execution_count": 12,
   "metadata": {},
   "outputs": [],
   "source": [
    "# Paramètres de la structure SWAG\n",
    "geometry = {\n",
    "    \"thick_super\": 200,\n",
    "    \"width_reso\": 30,\n",
    "    \"thick_reso\": 30,\n",
    "    \"thick_gap\": 3,\n",
    "    \"thick_func\": 1,\n",
    "    \"thick_mol\": 2,\n",
    "    \"thick_metalliclayer\": 10,\n",
    "    \"thick_sub\": 200,\n",
    "    \"thick_accroche\": 1,\n",
    "    \"period\": 100.2153\n",
    "}\n",
    "\n",
    "# Paramètres d'onde et de polarisation\n",
    "angle = 0\n",
    "polarization = 1  # 1 pour TM, 0 pour TE\n",
    "lambda_test = 500  # en nm\n",
    "\n",
    "# Exemple de récupération des propriétés d'un matériau via un fichier JSON\n",
    "material_test = \"Water\"\n",
    "json_path = \"../data/material_data.json\"  # chemin relatif vers votre fichier JSON\n",
    "\n",
    "n_val, k_val = get_n_k(material_test, lambda_test, json_path)\n",
    "perm_sub = (n_val + 1j * k_val) ** 2\n",
    "\n",
    "# Paramètres des matériaux\n",
    "perm_env = 1.0\n",
    "perm_dielec = 1.45 ** 2\n",
    "perm_Ag = epsAgbb(lambda_test)\n",
    "perm_Au = epsAubb(lambda_test)\n",
    "\n",
    "materials = {\n",
    "    \"perm_env\": perm_env,\n",
    "    \"perm_dielec\": perm_dielec,\n",
    "    \"perm_sub\": perm_sub,\n",
    "    \"perm_reso\": perm_Ag,\n",
    "    \"perm_metalliclayer\": perm_Au,\n",
    "    \"perm_accroche\": perm_Au\n",
    "}\n",
    "\n",
    "wave = {\"wavelength\": lambda_test, \"angle\": angle, \"polarization\": polarization}\n",
    "n_mod = 100\n"
   ]
  },
  {
   "cell_type": "code",
   "execution_count": 13,
   "metadata": {},
   "outputs": [
    {
     "name": "stdout",
     "output_type": "stream",
     "text": [
      "Réflectance R_up : 0.06741550763681971\n",
      "Réflectance R_down : 0.043803447890419726\n"
     ]
    }
   ],
   "source": [
    "Rup, Rdown = reflectance(geometry, wave, materials, n_mod)\n",
    "print(\"Réflectance R_up :\", Rup)\n",
    "print(\"Réflectance R_down :\", Rdown)\n"
   ]
  },
  {
   "cell_type": "code",
   "execution_count": 14,
   "metadata": {},
   "outputs": [
    {
     "ename": "KeyboardInterrupt",
     "evalue": "",
     "output_type": "error",
     "traceback": [
      "\u001b[0;31m---------------------------------------------------------------------------\u001b[0m",
      "\u001b[0;31mKeyboardInterrupt\u001b[0m                         Traceback (most recent call last)",
      "Cell \u001b[0;32mIn[14], line 7\u001b[0m\n\u001b[1;32m      5\u001b[0m \u001b[38;5;28;01mfor\u001b[39;00m i, lam \u001b[38;5;129;01min\u001b[39;00m \u001b[38;5;28menumerate\u001b[39m(lambda_range):\n\u001b[1;32m      6\u001b[0m     wave[\u001b[38;5;124m\"\u001b[39m\u001b[38;5;124mwavelength\u001b[39m\u001b[38;5;124m\"\u001b[39m] \u001b[38;5;241m=\u001b[39m lam\n\u001b[0;32m----> 7\u001b[0m     Rup_arr[i], Rdown_arr[i] \u001b[38;5;241m=\u001b[39m \u001b[43mreflectance\u001b[49m\u001b[43m(\u001b[49m\u001b[43mgeometry\u001b[49m\u001b[43m,\u001b[49m\u001b[43m \u001b[49m\u001b[43mwave\u001b[49m\u001b[43m,\u001b[49m\u001b[43m \u001b[49m\u001b[43mmaterials\u001b[49m\u001b[43m,\u001b[49m\u001b[43m \u001b[49m\u001b[43mn_mod\u001b[49m\u001b[43m)\u001b[49m\n\u001b[1;32m      9\u001b[0m plt\u001b[38;5;241m.\u001b[39mfigure(figsize\u001b[38;5;241m=\u001b[39m(\u001b[38;5;241m8\u001b[39m, \u001b[38;5;241m5\u001b[39m))\n\u001b[1;32m     10\u001b[0m plt\u001b[38;5;241m.\u001b[39mplot(lambda_range, Rup_arr, label\u001b[38;5;241m=\u001b[39m\u001b[38;5;124m\"\u001b[39m\u001b[38;5;124mR_up\u001b[39m\u001b[38;5;124m\"\u001b[39m)\n",
      "File \u001b[0;32m~/Bureau/SWAG-P/Gap_Plasmon_2D/Workspace/CODE/modules/Function_reflectance_SWAG.py:68\u001b[0m, in \u001b[0;36mreflectance\u001b[0;34m(geometry, wave, materials, n_mod)\u001b[0m\n\u001b[1;32m     65\u001b[0m S \u001b[38;5;241m=\u001b[39m c_bas(S, Vmetalliclayer, thick_metalliclayer)\n\u001b[1;32m     67\u001b[0m Pacc, Vacc \u001b[38;5;241m=\u001b[39m homogene(k0, a0, polarization, perm_accroche, n)\n\u001b[0;32m---> 68\u001b[0m S \u001b[38;5;241m=\u001b[39m \u001b[43mcascade\u001b[49m\u001b[43m(\u001b[49m\u001b[43mS\u001b[49m\u001b[43m,\u001b[49m\u001b[43m \u001b[49m\u001b[43minterface\u001b[49m\u001b[43m(\u001b[49m\u001b[43mPmetalliclayer\u001b[49m\u001b[43m,\u001b[49m\u001b[43m \u001b[49m\u001b[43mPacc\u001b[49m\u001b[43m)\u001b[49m\u001b[43m)\u001b[49m\n\u001b[1;32m     69\u001b[0m S \u001b[38;5;241m=\u001b[39m c_bas(S, Vacc, thick_accroche)\n\u001b[1;32m     71\u001b[0m Pdown, Vdown \u001b[38;5;241m=\u001b[39m homogene(k0, a0, polarization, perm_sub, n)\n",
      "File \u001b[0;32m~/Bureau/SWAG-P/Gap_Plasmon_2D/Workspace/CODE/modules/Functions_RCWA.py:10\u001b[0m, in \u001b[0;36mcascade\u001b[0;34m(T, U)\u001b[0m\n\u001b[1;32m      8\u001b[0m \u001b[38;5;250m\u001b[39m\u001b[38;5;124;03m'''Cascade deux matrices de diffusion T et U (dimensions 2n x 2n).'''\u001b[39;00m\n\u001b[1;32m      9\u001b[0m n \u001b[38;5;241m=\u001b[39m \u001b[38;5;28mint\u001b[39m(T\u001b[38;5;241m.\u001b[39mshape[\u001b[38;5;241m1\u001b[39m] \u001b[38;5;241m/\u001b[39m \u001b[38;5;241m2\u001b[39m)\n\u001b[0;32m---> 10\u001b[0m J \u001b[38;5;241m=\u001b[39m \u001b[43mnp\u001b[49m\u001b[38;5;241;43m.\u001b[39;49m\u001b[43mlinalg\u001b[49m\u001b[38;5;241;43m.\u001b[39;49m\u001b[43minv\u001b[49m\u001b[43m(\u001b[49m\u001b[43mnp\u001b[49m\u001b[38;5;241;43m.\u001b[39;49m\u001b[43meye\u001b[49m\u001b[43m(\u001b[49m\u001b[43mn\u001b[49m\u001b[43m)\u001b[49m\u001b[43m \u001b[49m\u001b[38;5;241;43m-\u001b[39;49m\u001b[43m \u001b[49m\u001b[43mnp\u001b[49m\u001b[38;5;241;43m.\u001b[39;49m\u001b[43mmatmul\u001b[49m\u001b[43m(\u001b[49m\u001b[43mU\u001b[49m\u001b[43m[\u001b[49m\u001b[38;5;241;43m0\u001b[39;49m\u001b[43m:\u001b[49m\u001b[43mn\u001b[49m\u001b[43m,\u001b[49m\u001b[43m \u001b[49m\u001b[38;5;241;43m0\u001b[39;49m\u001b[43m:\u001b[49m\u001b[43mn\u001b[49m\u001b[43m]\u001b[49m\u001b[43m,\u001b[49m\u001b[43m \u001b[49m\u001b[43mT\u001b[49m\u001b[43m[\u001b[49m\u001b[43mn\u001b[49m\u001b[43m:\u001b[49m\u001b[38;5;241;43m2\u001b[39;49m\u001b[38;5;241;43m*\u001b[39;49m\u001b[43mn\u001b[49m\u001b[43m,\u001b[49m\u001b[43m \u001b[49m\u001b[43mn\u001b[49m\u001b[43m:\u001b[49m\u001b[38;5;241;43m2\u001b[39;49m\u001b[38;5;241;43m*\u001b[39;49m\u001b[43mn\u001b[49m\u001b[43m]\u001b[49m\u001b[43m)\u001b[49m\u001b[43m)\u001b[49m\n\u001b[1;32m     11\u001b[0m K \u001b[38;5;241m=\u001b[39m np\u001b[38;5;241m.\u001b[39mlinalg\u001b[38;5;241m.\u001b[39minv(np\u001b[38;5;241m.\u001b[39meye(n) \u001b[38;5;241m-\u001b[39m np\u001b[38;5;241m.\u001b[39mmatmul(T[n:\u001b[38;5;241m2\u001b[39m\u001b[38;5;241m*\u001b[39mn, n:\u001b[38;5;241m2\u001b[39m\u001b[38;5;241m*\u001b[39mn], U[\u001b[38;5;241m0\u001b[39m:n, \u001b[38;5;241m0\u001b[39m:n]))\n\u001b[1;32m     12\u001b[0m S \u001b[38;5;241m=\u001b[39m np\u001b[38;5;241m.\u001b[39mblock([\n\u001b[1;32m     13\u001b[0m     [T[\u001b[38;5;241m0\u001b[39m:n, \u001b[38;5;241m0\u001b[39m:n] \u001b[38;5;241m+\u001b[39m np\u001b[38;5;241m.\u001b[39mmatmul(np\u001b[38;5;241m.\u001b[39mmatmul(np\u001b[38;5;241m.\u001b[39mmatmul(T[\u001b[38;5;241m0\u001b[39m:n, n:\u001b[38;5;241m2\u001b[39m\u001b[38;5;241m*\u001b[39mn], J), U[\u001b[38;5;241m0\u001b[39m:n, \u001b[38;5;241m0\u001b[39m:n]), T[n:\u001b[38;5;241m2\u001b[39m\u001b[38;5;241m*\u001b[39mn, \u001b[38;5;241m0\u001b[39m:n]),\n\u001b[1;32m     14\u001b[0m      np\u001b[38;5;241m.\u001b[39mmatmul(np\u001b[38;5;241m.\u001b[39mmatmul(T[\u001b[38;5;241m0\u001b[39m:n, n:\u001b[38;5;241m2\u001b[39m\u001b[38;5;241m*\u001b[39mn], J), U[\u001b[38;5;241m0\u001b[39m:n, n:\u001b[38;5;241m2\u001b[39m\u001b[38;5;241m*\u001b[39mn])],\n\u001b[1;32m     15\u001b[0m     [np\u001b[38;5;241m.\u001b[39mmatmul(np\u001b[38;5;241m.\u001b[39mmatmul(U[n:\u001b[38;5;241m2\u001b[39m\u001b[38;5;241m*\u001b[39mn, \u001b[38;5;241m0\u001b[39m:n], K), T[n:\u001b[38;5;241m2\u001b[39m\u001b[38;5;241m*\u001b[39mn, \u001b[38;5;241m0\u001b[39m:n]),\n\u001b[1;32m     16\u001b[0m      U[n:\u001b[38;5;241m2\u001b[39m\u001b[38;5;241m*\u001b[39mn, n:\u001b[38;5;241m2\u001b[39m\u001b[38;5;241m*\u001b[39mn] \u001b[38;5;241m+\u001b[39m np\u001b[38;5;241m.\u001b[39mmatmul(np\u001b[38;5;241m.\u001b[39mmatmul(np\u001b[38;5;241m.\u001b[39mmatmul(U[n:\u001b[38;5;241m2\u001b[39m\u001b[38;5;241m*\u001b[39mn, \u001b[38;5;241m0\u001b[39m:n], K), T[n:\u001b[38;5;241m2\u001b[39m\u001b[38;5;241m*\u001b[39mn, n:\u001b[38;5;241m2\u001b[39m\u001b[38;5;241m*\u001b[39mn]), U[\u001b[38;5;241m0\u001b[39m:n, n:\u001b[38;5;241m2\u001b[39m\u001b[38;5;241m*\u001b[39mn])]\n\u001b[1;32m     17\u001b[0m ])\n",
      "File \u001b[0;32m~/Bureau/SWAG-P/Gap_Plasmon_2D/.venv/lib/python3.10/site-packages/numpy/linalg/_linalg.py:609\u001b[0m, in \u001b[0;36minv\u001b[0;34m(a)\u001b[0m\n\u001b[1;32m    606\u001b[0m signature \u001b[38;5;241m=\u001b[39m \u001b[38;5;124m'\u001b[39m\u001b[38;5;124mD->D\u001b[39m\u001b[38;5;124m'\u001b[39m \u001b[38;5;28;01mif\u001b[39;00m isComplexType(t) \u001b[38;5;28;01melse\u001b[39;00m \u001b[38;5;124m'\u001b[39m\u001b[38;5;124md->d\u001b[39m\u001b[38;5;124m'\u001b[39m\n\u001b[1;32m    607\u001b[0m \u001b[38;5;28;01mwith\u001b[39;00m errstate(call\u001b[38;5;241m=\u001b[39m_raise_linalgerror_singular, invalid\u001b[38;5;241m=\u001b[39m\u001b[38;5;124m'\u001b[39m\u001b[38;5;124mcall\u001b[39m\u001b[38;5;124m'\u001b[39m,\n\u001b[1;32m    608\u001b[0m               over\u001b[38;5;241m=\u001b[39m\u001b[38;5;124m'\u001b[39m\u001b[38;5;124mignore\u001b[39m\u001b[38;5;124m'\u001b[39m, divide\u001b[38;5;241m=\u001b[39m\u001b[38;5;124m'\u001b[39m\u001b[38;5;124mignore\u001b[39m\u001b[38;5;124m'\u001b[39m, under\u001b[38;5;241m=\u001b[39m\u001b[38;5;124m'\u001b[39m\u001b[38;5;124mignore\u001b[39m\u001b[38;5;124m'\u001b[39m):\n\u001b[0;32m--> 609\u001b[0m     ainv \u001b[38;5;241m=\u001b[39m \u001b[43m_umath_linalg\u001b[49m\u001b[38;5;241;43m.\u001b[39;49m\u001b[43minv\u001b[49m\u001b[43m(\u001b[49m\u001b[43ma\u001b[49m\u001b[43m,\u001b[49m\u001b[43m \u001b[49m\u001b[43msignature\u001b[49m\u001b[38;5;241;43m=\u001b[39;49m\u001b[43msignature\u001b[49m\u001b[43m)\u001b[49m\n\u001b[1;32m    610\u001b[0m \u001b[38;5;28;01mreturn\u001b[39;00m wrap(ainv\u001b[38;5;241m.\u001b[39mastype(result_t, copy\u001b[38;5;241m=\u001b[39m\u001b[38;5;28;01mFalse\u001b[39;00m))\n",
      "\u001b[0;31mKeyboardInterrupt\u001b[0m: "
     ]
    }
   ],
   "source": [
    "lambda_range = np.linspace(450, 1000, 100)\n",
    "Rup_arr = np.empty(lambda_range.size)\n",
    "Rdown_arr = np.empty(lambda_range.size)\n",
    "\n",
    "for i, lam in enumerate(lambda_range):\n",
    "    wave[\"wavelength\"] = lam\n",
    "    Rup_arr[i], Rdown_arr[i] = reflectance(geometry, wave, materials, n_mod)\n",
    "\n",
    "plt.figure(figsize=(8, 5))\n",
    "plt.plot(lambda_range, Rup_arr, label=\"R_up\")\n",
    "plt.xlabel(\"Longueur d'onde (nm)\")\n",
    "plt.ylabel(\"Réflectance\")\n",
    "plt.title(\"Réflectance en fonction de la longueur d'onde\")\n",
    "plt.legend()\n",
    "plt.grid(True)\n",
    "plt.show()\n"
   ]
  },
  {
   "cell_type": "code",
   "execution_count": null,
   "metadata": {},
   "outputs": [],
   "source": []
  },
  {
   "cell_type": "code",
   "execution_count": null,
   "metadata": {},
   "outputs": [],
   "source": []
  }
 ],
 "metadata": {
  "kernelspec": {
   "display_name": ".venv",
   "language": "python",
   "name": "python3"
  },
  "language_info": {
   "codemirror_mode": {
    "name": "ipython",
    "version": 3
   },
   "file_extension": ".py",
   "mimetype": "text/x-python",
   "name": "python",
   "nbconvert_exporter": "python",
   "pygments_lexer": "ipython3",
   "version": "3.10.12"
  }
 },
 "nbformat": 4,
 "nbformat_minor": 2
}
